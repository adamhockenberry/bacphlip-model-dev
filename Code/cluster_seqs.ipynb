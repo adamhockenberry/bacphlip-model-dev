{
 "cells": [
  {
   "cell_type": "code",
   "execution_count": 1,
   "metadata": {},
   "outputs": [],
   "source": [
    "%matplotlib inline"
   ]
  },
  {
   "cell_type": "markdown",
   "metadata": {},
   "source": [
    "# Notes:\n",
    "\n",
    "This notebook is for clustering FastANI to create CD-HIT-EST like results. FastANI was run with the following command:\n",
    "    \n",
    "    $fastANI --ql file_listing.txt --rl file_listing.txt --fragLen 300 --minFraction 0.8 -o first_pass_ANI.output\n",
    "    \n",
    "Whwere file_listing.txt is simply a list of all the nucleotide fastas to cluster and this command performs an all-vs-all comparison. I had to run FastANI on an off-site cluster to get the program to complete so full commands are not included here. Note, however that \"minFraction\" refers to the minimum fraction of the smallest genome sequence that was aligned."
   ]
  },
  {
   "cell_type": "code",
   "execution_count": 2,
   "metadata": {},
   "outputs": [],
   "source": [
    "import pandas as pd\n",
    "from Bio import SeqIO\n",
    "import glob"
   ]
  },
  {
   "cell_type": "code",
   "execution_count": 3,
   "metadata": {},
   "outputs": [
    {
     "name": "stdout",
     "output_type": "stream",
     "text": [
      "(1045, 5)\n",
      "(9904, 5)\n"
     ]
    },
    {
     "data": {
      "text/html": [
       "<div>\n",
       "<style scoped>\n",
       "    .dataframe tbody tr th:only-of-type {\n",
       "        vertical-align: middle;\n",
       "    }\n",
       "\n",
       "    .dataframe tbody tr th {\n",
       "        vertical-align: top;\n",
       "    }\n",
       "\n",
       "    .dataframe thead th {\n",
       "        text-align: right;\n",
       "    }\n",
       "</style>\n",
       "<table border=\"1\" class=\"dataframe\">\n",
       "  <thead>\n",
       "    <tr style=\"text-align: right;\">\n",
       "      <th></th>\n",
       "      <th>query_seq</th>\n",
       "      <th>ref_seq</th>\n",
       "      <th>2</th>\n",
       "      <th>3</th>\n",
       "      <th>4</th>\n",
       "    </tr>\n",
       "  </thead>\n",
       "  <tbody>\n",
       "    <tr>\n",
       "      <td>2</td>\n",
       "      <td>minerva</td>\n",
       "      <td>optimus</td>\n",
       "      <td>96.5329</td>\n",
       "      <td>309</td>\n",
       "      <td>366</td>\n",
       "    </tr>\n",
       "    <tr>\n",
       "      <td>3</td>\n",
       "      <td>minerva</td>\n",
       "      <td>wanda</td>\n",
       "      <td>96.4687</td>\n",
       "      <td>317</td>\n",
       "      <td>366</td>\n",
       "    </tr>\n",
       "    <tr>\n",
       "      <td>4</td>\n",
       "      <td>minerva</td>\n",
       "      <td>baka</td>\n",
       "      <td>96.2789</td>\n",
       "      <td>309</td>\n",
       "      <td>366</td>\n",
       "    </tr>\n",
       "    <tr>\n",
       "      <td>6</td>\n",
       "      <td>island3</td>\n",
       "      <td>brujita</td>\n",
       "      <td>99.6888</td>\n",
       "      <td>156</td>\n",
       "      <td>157</td>\n",
       "    </tr>\n",
       "    <tr>\n",
       "      <td>8</td>\n",
       "      <td>NC_004587</td>\n",
       "      <td>NC_003157</td>\n",
       "      <td>99.9971</td>\n",
       "      <td>139</td>\n",
       "      <td>139</td>\n",
       "    </tr>\n",
       "    <tr>\n",
       "      <td>10</td>\n",
       "      <td>NC_024122</td>\n",
       "      <td>NC_016073</td>\n",
       "      <td>97.6094</td>\n",
       "      <td>480</td>\n",
       "      <td>543</td>\n",
       "    </tr>\n",
       "    <tr>\n",
       "      <td>11</td>\n",
       "      <td>NC_024122</td>\n",
       "      <td>NC_016570</td>\n",
       "      <td>97.5490</td>\n",
       "      <td>485</td>\n",
       "      <td>543</td>\n",
       "    </tr>\n",
       "    <tr>\n",
       "      <td>12</td>\n",
       "      <td>NC_024122</td>\n",
       "      <td>NC_019530</td>\n",
       "      <td>97.3815</td>\n",
       "      <td>473</td>\n",
       "      <td>543</td>\n",
       "    </tr>\n",
       "    <tr>\n",
       "      <td>13</td>\n",
       "      <td>NC_024122</td>\n",
       "      <td>NC_019452</td>\n",
       "      <td>97.0824</td>\n",
       "      <td>480</td>\n",
       "      <td>543</td>\n",
       "    </tr>\n",
       "    <tr>\n",
       "      <td>14</td>\n",
       "      <td>NC_024122</td>\n",
       "      <td>NC_027119</td>\n",
       "      <td>96.5699</td>\n",
       "      <td>457</td>\n",
       "      <td>543</td>\n",
       "    </tr>\n",
       "    <tr>\n",
       "      <td>15</td>\n",
       "      <td>NC_024122</td>\n",
       "      <td>NC_023856</td>\n",
       "      <td>90.8379</td>\n",
       "      <td>421</td>\n",
       "      <td>543</td>\n",
       "    </tr>\n",
       "    <tr>\n",
       "      <td>16</td>\n",
       "      <td>NC_024122</td>\n",
       "      <td>NC_025446</td>\n",
       "      <td>89.6092</td>\n",
       "      <td>421</td>\n",
       "      <td>543</td>\n",
       "    </tr>\n",
       "    <tr>\n",
       "      <td>17</td>\n",
       "      <td>NC_024122</td>\n",
       "      <td>NC_015296</td>\n",
       "      <td>88.9026</td>\n",
       "      <td>426</td>\n",
       "      <td>543</td>\n",
       "    </tr>\n",
       "    <tr>\n",
       "      <td>19</td>\n",
       "      <td>NC_020082</td>\n",
       "      <td>NC_021342</td>\n",
       "      <td>91.8749</td>\n",
       "      <td>119</td>\n",
       "      <td>142</td>\n",
       "    </tr>\n",
       "    <tr>\n",
       "      <td>24</td>\n",
       "      <td>fluffyninja</td>\n",
       "      <td>yoshand</td>\n",
       "      <td>99.9011</td>\n",
       "      <td>229</td>\n",
       "      <td>229</td>\n",
       "    </tr>\n",
       "    <tr>\n",
       "      <td>25</td>\n",
       "      <td>fluffyninja</td>\n",
       "      <td>swish</td>\n",
       "      <td>99.6744</td>\n",
       "      <td>229</td>\n",
       "      <td>229</td>\n",
       "    </tr>\n",
       "    <tr>\n",
       "      <td>26</td>\n",
       "      <td>fluffyninja</td>\n",
       "      <td>phamished</td>\n",
       "      <td>99.2359</td>\n",
       "      <td>227</td>\n",
       "      <td>229</td>\n",
       "    </tr>\n",
       "    <tr>\n",
       "      <td>27</td>\n",
       "      <td>fluffyninja</td>\n",
       "      <td>chah</td>\n",
       "      <td>99.1879</td>\n",
       "      <td>224</td>\n",
       "      <td>229</td>\n",
       "    </tr>\n",
       "    <tr>\n",
       "      <td>28</td>\n",
       "      <td>fluffyninja</td>\n",
       "      <td>jacattac</td>\n",
       "      <td>99.1577</td>\n",
       "      <td>225</td>\n",
       "      <td>229</td>\n",
       "    </tr>\n",
       "    <tr>\n",
       "      <td>29</td>\n",
       "      <td>fluffyninja</td>\n",
       "      <td>sigman</td>\n",
       "      <td>99.1576</td>\n",
       "      <td>225</td>\n",
       "      <td>229</td>\n",
       "    </tr>\n",
       "  </tbody>\n",
       "</table>\n",
       "</div>"
      ],
      "text/plain": [
       "      query_seq    ref_seq        2    3    4\n",
       "2       minerva    optimus  96.5329  309  366\n",
       "3       minerva      wanda  96.4687  317  366\n",
       "4       minerva       baka  96.2789  309  366\n",
       "6       island3    brujita  99.6888  156  157\n",
       "8     NC_004587  NC_003157  99.9971  139  139\n",
       "10    NC_024122  NC_016073  97.6094  480  543\n",
       "11    NC_024122  NC_016570  97.5490  485  543\n",
       "12    NC_024122  NC_019530  97.3815  473  543\n",
       "13    NC_024122  NC_019452  97.0824  480  543\n",
       "14    NC_024122  NC_027119  96.5699  457  543\n",
       "15    NC_024122  NC_023856  90.8379  421  543\n",
       "16    NC_024122  NC_025446  89.6092  421  543\n",
       "17    NC_024122  NC_015296  88.9026  426  543\n",
       "19    NC_020082  NC_021342  91.8749  119  142\n",
       "24  fluffyninja    yoshand  99.9011  229  229\n",
       "25  fluffyninja      swish  99.6744  229  229\n",
       "26  fluffyninja  phamished  99.2359  227  229\n",
       "27  fluffyninja       chah  99.1879  224  229\n",
       "28  fluffyninja   jacattac  99.1577  225  229\n",
       "29  fluffyninja     sigman  99.1576  225  229"
      ]
     },
     "execution_count": 3,
     "metadata": {},
     "output_type": "execute_result"
    }
   ],
   "source": [
    "input_df = pd.read_csv('../Data/fastANI_output/first_pass_ANI.output', header=None, sep='\\t')\n",
    "input_df['temp'] = input_df[0].str.split(\"/\").str[-1]\n",
    "input_df['query_seq'] = input_df['temp'].str.split('.').str[0]\n",
    "input_df['temp'] = input_df[1].str.split(\"/\").str[-1]\n",
    "input_df['ref_seq'] = input_df['temp'].str.split('.').str[0]\n",
    "input_df = input_df[['query_seq', 'ref_seq', 2, 3, 4]]\n",
    "print(input_df[input_df[2]==100.].shape)\n",
    "input_df = input_df[input_df['query_seq'] != input_df['ref_seq']]\n",
    "print(input_df.shape)\n",
    "input_df.head(n=20)"
   ]
  },
  {
   "cell_type": "markdown",
   "metadata": {},
   "source": [
    "**Now, follow the CD-HIT-EST greedy algorithm to perform clustering**"
   ]
  },
  {
   "cell_type": "code",
   "execution_count": 4,
   "metadata": {},
   "outputs": [
    {
     "name": "stdout",
     "output_type": "stream",
     "text": [
      "First, last record sequence length: 358663 , 5833\n"
     ]
    }
   ],
   "source": [
    "records = []\n",
    "for infile in glob.glob('../Data/phage_data_nmicro2017/phage_fasta_files/*.fasta'):\n",
    "    tempy = SeqIO.read(infile, 'fasta')\n",
    "    records.append((infile.split('/')[-1].split('.')[0], len(tempy.seq)))\n",
    "records = sorted(records, key=lambda x: x[1], reverse=True) ###Critical step!\n",
    "print('First, last record sequence length:', records[0][1], ',', records[-1][1])"
   ]
  },
  {
   "cell_type": "code",
   "execution_count": 5,
   "metadata": {},
   "outputs": [],
   "source": [
    "thresh = 90\n",
    "clusters = []\n",
    "found = []\n",
    "for record in records[:]: ### Records must be sorted in order! (see above)\n",
    "    if record[0] in found:\n",
    "        continue\n",
    "    ###Find all instances of this record    \n",
    "    temp_df = input_df[(input_df['query_seq']==record[0]) | (input_df['ref_seq']==record[0])]\n",
    "    temp_df = temp_df[temp_df[2] > thresh]\n",
    "    if temp_df.shape[0] != 0:\n",
    "        all_seqs = list(set(list(temp_df['query_seq'])+list(temp_df['ref_seq'])))\n",
    "        all_seqs.insert(0, all_seqs.pop(all_seqs.index(record[0])))\n",
    "\n",
    "        clusters.append(all_seqs)\n",
    "        found.extend(all_seqs)\n",
    "        input_df = input_df[input_df['query_seq'].isin(all_seqs)==False]\n",
    "        input_df = input_df[input_df['ref_seq'].isin(all_seqs)==False]\n",
    "    else:\n",
    "        clusters.append([record[0]])\n",
    "        found.append(record[0])"
   ]
  },
  {
   "cell_type": "code",
   "execution_count": 6,
   "metadata": {},
   "outputs": [
    {
     "name": "stdout",
     "output_type": "stream",
     "text": [
      "519 1057\n"
     ]
    }
   ],
   "source": [
    "print(len(clusters), sum([len(i) for i in clusters]))"
   ]
  },
  {
   "cell_type": "markdown",
   "metadata": {},
   "source": [
    "**Finally, write the clusters**"
   ]
  },
  {
   "cell_type": "code",
   "execution_count": 7,
   "metadata": {},
   "outputs": [],
   "source": [
    "import json\n",
    "with open('../Data/fastANI_output/clusters.json', 'w') as outfile:\n",
    "    json.dump(clusters, outfile)"
   ]
  },
  {
   "cell_type": "code",
   "execution_count": null,
   "metadata": {},
   "outputs": [],
   "source": []
  }
 ],
 "metadata": {
  "kernelspec": {
   "display_name": "Python 3",
   "language": "python",
   "name": "python3"
  },
  "language_info": {
   "codemirror_mode": {
    "name": "ipython",
    "version": 3
   },
   "file_extension": ".py",
   "mimetype": "text/x-python",
   "name": "python",
   "nbconvert_exporter": "python",
   "pygments_lexer": "ipython3",
   "version": "3.7.4"
  },
  "toc": {
   "colors": {
    "hover_highlight": "#DAA520",
    "navigate_num": "#000000",
    "navigate_text": "#333333",
    "running_highlight": "#FF0000",
    "selected_highlight": "#FFD700",
    "sidebar_border": "#EEEEEE",
    "wrapper_background": "#FFFFFF"
   },
   "moveMenuLeft": true,
   "nav_menu": {
    "height": "12px",
    "width": "252px"
   },
   "navigate_menu": true,
   "number_sections": true,
   "sideBar": true,
   "threshold": 4,
   "toc_cell": false,
   "toc_section_display": "block",
   "toc_window_display": false,
   "widenNotebook": false
  }
 },
 "nbformat": 4,
 "nbformat_minor": 2
}
