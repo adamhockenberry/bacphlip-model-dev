{
 "cells": [
  {
   "cell_type": "code",
   "execution_count": 1,
   "metadata": {},
   "outputs": [],
   "source": [
    "%matplotlib inline"
   ]
  },
  {
   "cell_type": "markdown",
   "metadata": {},
   "source": [
    "# Basic imports"
   ]
  },
  {
   "cell_type": "code",
   "execution_count": 21,
   "metadata": {},
   "outputs": [],
   "source": [
    "import joblib\n",
    "import pandas as pd\n",
    "import numpy as np\n",
    "from matplotlib import pyplot as plt"
   ]
  },
  {
   "cell_type": "markdown",
   "metadata": {},
   "source": [
    "# Plotting details"
   ]
  },
  {
   "cell_type": "code",
   "execution_count": 22,
   "metadata": {},
   "outputs": [],
   "source": [
    "import matplotlib\n",
    "###Default for jupyter display\n",
    "matplotlib.rcParams['figure.dpi']= 150\n",
    "\n",
    "matplotlib.rcParams['xtick.labelsize'] = 7\n",
    "matplotlib.rcParams['ytick.labelsize'] = 7\n",
    "matplotlib.rcParams['axes.labelsize'] = 7\n",
    "matplotlib.rcParams['axes.titlesize'] = 7\n",
    "\n",
    "matplotlib.rcParams['axes.grid'] = True\n",
    "matplotlib.rcParams['grid.color'] = '0.8'\n",
    "matplotlib.rcParams['grid.linewidth'] = '0.5'\n",
    "\n",
    "matplotlib.rcParams['axes.edgecolor'] = '0.25'\n",
    "matplotlib.rcParams['xtick.color'] = '0'\n",
    "matplotlib.rcParams['ytick.color'] = '0'\n",
    "\n",
    "matplotlib.rcParams['xtick.major.width'] = 1\n",
    "matplotlib.rcParams['ytick.major.width'] = 1\n",
    "matplotlib.rcParams['ytick.major.size'] = 5\n",
    "matplotlib.rcParams['xtick.major.size'] = 5\n",
    "matplotlib.rcParams['axes.spines.right'] = True\n",
    "matplotlib.rcParams['axes.spines.left'] = True\n",
    "matplotlib.rcParams['axes.spines.top'] = True\n",
    "matplotlib.rcParams['axes.spines.bottom'] = True\n",
    "\n",
    "matplotlib.rcParams['font.family'] = 'sans-serif'\n",
    "matplotlib.rcParams['font.sans-serif'] = 'Helvetica'\n",
    "matplotlib.rcParams['font.weight']='normal'\n",
    "matplotlib.rcParams['axes.axisbelow'] = True\n",
    "# matplotlib.rcParams['text.usetex'] = True\n",
    "\n",
    "matplotlib.rcParams['legend.fontsize'] = 7\n",
    "matplotlib.rcParams['legend.handlelength'] = 1\n",
    "matplotlib.rcParams['legend.handleheight'] = 1\n",
    "matplotlib.rcParams['legend.handletextpad'] = 0.4\n",
    "\n",
    "\n",
    "\n",
    "prop_cycle = plt.rcParams['axes.prop_cycle']\n",
    "colors = prop_cycle.by_key()['color']"
   ]
  },
  {
   "cell_type": "code",
   "execution_count": 23,
   "metadata": {},
   "outputs": [
    {
     "name": "stdout",
     "output_type": "stream",
     "text": [
      "(634, 229)\n",
      "(423, 229)\n"
     ]
    }
   ],
   "source": [
    "###Load classifier model\n",
    "clf = joblib.load('../Data/classifier_data/rf_version_updating.joblib')\n",
    "\n",
    "# ###Load datasets\n",
    "train_df = pd.read_csv('../Data/classifier_data/train_df.csv', index_col=0)\n",
    "print(train_df.shape)\n",
    "test_df = pd.read_csv('../Data/classifier_data/test_df.csv', index_col=0)\n",
    "print(test_df.shape)"
   ]
  },
  {
   "cell_type": "code",
   "execution_count": 106,
   "metadata": {},
   "outputs": [
    {
     "data": {
      "image/png": "[encoded data removed]",
      "text/plain": [
       "<Figure size 555x405 with 1 Axes>"
      ]
     },
     "metadata": {
      "needs_background": "light"
     },
     "output_type": "display_data"
    }
   ],
   "source": [
    "fig, ax = plt.subplots(figsize=(3.7, 2.7))\n",
    "ax.hist(clf.feature_importances_, 20) \n",
    "ax.set_xlabel('Relative feature importance')\n",
    "ax.set_ylabel('Number of features')\n",
    "plt.savefig('../Manuscript/SI_fig_importance.png', dpi=300, bbox_inches='tight')"
   ]
  },
  {
   "cell_type": "code",
   "execution_count": 33,
   "metadata": {},
   "outputs": [
    {
     "name": "stdout",
     "output_type": "stream",
     "text": [
      "This should be 1: 0.9999999999999998\n",
      "How many features were useless: 6\n"
     ]
    }
   ],
   "source": [
    "print('This should be 1:', sum(clf.feature_importances_))\n",
    "print('How many features were useless:', len([i for i in clf.feature_importances_ if i == 0]))"
   ]
  },
  {
   "cell_type": "code",
   "execution_count": 97,
   "metadata": {},
   "outputs": [
    {
     "name": "stdout",
     "output_type": "stream",
     "text": [
      "(371, 12)\n",
      "(206, 2)\n",
      "(371, 13)\n"
     ]
    },
    {
     "data": {
      "text/html": [
       "<div>\n",
       "<style scoped>\n",
       "    .dataframe tbody tr th:only-of-type {\n",
       "        vertical-align: middle;\n",
       "    }\n",
       "\n",
       "    .dataframe tbody tr th {\n",
       "        vertical-align: top;\n",
       "    }\n",
       "\n",
       "    .dataframe thead th {\n",
       "        text-align: right;\n",
       "    }\n",
       "</style>\n",
       "<table border=\"1\" class=\"dataframe\">\n",
       "  <thead>\n",
       "    <tr style=\"text-align: right;\">\n",
       "      <th></th>\n",
       "      <th>1</th>\n",
       "      <th>2</th>\n",
       "      <th>3</th>\n",
       "      <th>4</th>\n",
       "      <th>integrase</th>\n",
       "      <th>excisionase</th>\n",
       "      <th>recombinase</th>\n",
       "      <th>transposase</th>\n",
       "      <th>lysogen</th>\n",
       "      <th>temperate</th>\n",
       "      <th>parA|ParA|parB|ParB</th>\n",
       "      <th>search_hits</th>\n",
       "      <th>feature_importance</th>\n",
       "    </tr>\n",
       "  </thead>\n",
       "  <tbody>\n",
       "    <tr>\n",
       "      <th>234</th>\n",
       "      <td>pfam04606</td>\n",
       "      <td>Ogr_Delta</td>\n",
       "      <td>Ogr/Delta-like zinc finger. This is a viral fa...</td>\n",
       "      <td>47</td>\n",
       "      <td>0</td>\n",
       "      <td>0</td>\n",
       "      <td>1</td>\n",
       "      <td>0</td>\n",
       "      <td>0</td>\n",
       "      <td>0</td>\n",
       "      <td>0</td>\n",
       "      <td>1</td>\n",
       "      <td>0.056585</td>\n",
       "    </tr>\n",
       "    <tr>\n",
       "      <th>312</th>\n",
       "      <td>pfam13408</td>\n",
       "      <td>Zn_ribbon_recom</td>\n",
       "      <td>Recombinase zinc beta ribbon domain. This shor...</td>\n",
       "      <td>58</td>\n",
       "      <td>0</td>\n",
       "      <td>0</td>\n",
       "      <td>1</td>\n",
       "      <td>0</td>\n",
       "      <td>0</td>\n",
       "      <td>0</td>\n",
       "      <td>0</td>\n",
       "      <td>1</td>\n",
       "      <td>0.048597</td>\n",
       "    </tr>\n",
       "    <tr>\n",
       "      <th>103</th>\n",
       "      <td>cd00397</td>\n",
       "      <td>DNA_BRE_C</td>\n",
       "      <td>DNA breaking-rejoining enzymes, C-terminal cat...</td>\n",
       "      <td>167</td>\n",
       "      <td>1</td>\n",
       "      <td>0</td>\n",
       "      <td>1</td>\n",
       "      <td>0</td>\n",
       "      <td>0</td>\n",
       "      <td>0</td>\n",
       "      <td>0</td>\n",
       "      <td>2</td>\n",
       "      <td>0.046740</td>\n",
       "    </tr>\n",
       "    <tr>\n",
       "      <th>118</th>\n",
       "      <td>cd01182</td>\n",
       "      <td>INT_RitC_C_like</td>\n",
       "      <td>C-terminal catalytic domain of recombinase Rit...</td>\n",
       "      <td>186</td>\n",
       "      <td>1</td>\n",
       "      <td>0</td>\n",
       "      <td>1</td>\n",
       "      <td>0</td>\n",
       "      <td>0</td>\n",
       "      <td>0</td>\n",
       "      <td>0</td>\n",
       "      <td>2</td>\n",
       "      <td>0.037092</td>\n",
       "    </tr>\n",
       "    <tr>\n",
       "      <th>108</th>\n",
       "      <td>cd00796</td>\n",
       "      <td>INT_Rci_Hp1_C</td>\n",
       "      <td>Shufflon-specific DNA recombinase Rci and Bact...</td>\n",
       "      <td>162</td>\n",
       "      <td>1</td>\n",
       "      <td>0</td>\n",
       "      <td>1</td>\n",
       "      <td>0</td>\n",
       "      <td>0</td>\n",
       "      <td>0</td>\n",
       "      <td>0</td>\n",
       "      <td>2</td>\n",
       "      <td>0.033966</td>\n",
       "    </tr>\n",
       "  </tbody>\n",
       "</table>\n",
       "</div>"
      ],
      "text/plain": [
       "             1                2  \\\n",
       "234  pfam04606        Ogr_Delta   \n",
       "312  pfam13408  Zn_ribbon_recom   \n",
       "103    cd00397        DNA_BRE_C   \n",
       "118    cd01182  INT_RitC_C_like   \n",
       "108    cd00796    INT_Rci_Hp1_C   \n",
       "\n",
       "                                                     3    4  integrase  \\\n",
       "234  Ogr/Delta-like zinc finger. This is a viral fa...   47          0   \n",
       "312  Recombinase zinc beta ribbon domain. This shor...   58          0   \n",
       "103  DNA breaking-rejoining enzymes, C-terminal cat...  167          1   \n",
       "118  C-terminal catalytic domain of recombinase Rit...  186          1   \n",
       "108  Shufflon-specific DNA recombinase Rci and Bact...  162          1   \n",
       "\n",
       "     excisionase  recombinase  transposase  lysogen  temperate  \\\n",
       "234            0            1            0        0          0   \n",
       "312            0            1            0        0          0   \n",
       "103            0            1            0        0          0   \n",
       "118            0            1            0        0          0   \n",
       "108            0            1            0        0          0   \n",
       "\n",
       "     parA|ParA|parB|ParB  search_hits  feature_importance  \n",
       "234                    0            1            0.056585  \n",
       "312                    0            1            0.048597  \n",
       "103                    0            2            0.046740  \n",
       "118                    0            2            0.037092  \n",
       "108                    0            2            0.033966  "
      ]
     },
     "execution_count": 97,
     "metadata": {},
     "output_type": "execute_result"
    }
   ],
   "source": [
    "domain_df = pd.read_csv('../Data/protein_domain_data/cddid_selected_2020_4_27.tsv', sep='\\t', index_col=0)\n",
    "print(domain_df.shape)\n",
    "\n",
    "zippy = list(zip(train_df.columns[23:], clf.feature_importances_))\n",
    "feature_import_df = pd.DataFrame(zippy)\n",
    "feature_import_df.columns = ['name', 'feature_importance']\n",
    "print(feature_import_df.shape)\n",
    "\n",
    "domain_df = domain_df.merge(feature_import_df, left_on='1', right_on='name', how='outer')\n",
    "domain_df = domain_df.drop(['name'], axis=1)\n",
    "domain_df = domain_df.sort_values(by=['feature_importance'], ascending=False)\n",
    "\n",
    "print(domain_df.shape)\n",
    "domain_df.head()"
   ]
  },
  {
   "cell_type": "code",
   "execution_count": 103,
   "metadata": {},
   "outputs": [
    {
     "data": {
      "text/plain": [
       "1                      pfam04606pfam13408pfam17463cd01189PRK05084COG1...\n",
       "2                      Ogr_DeltaZn_ribbon_recomGp79INT_ICEBs1_C_likex...\n",
       "3                      Ogr/Delta-like zinc finger. This is a viral fa...\n",
       "4                                                                   9448\n",
       "integrase                                                              9\n",
       "excisionase                                                            0\n",
       "recombinase                                                           10\n",
       "transposase                                                           19\n",
       "lysogen                                                                2\n",
       "temperate                                                              1\n",
       "parA|ParA|parB|ParB                                                    9\n",
       "search_hits                                                           50\n",
       "feature_importance                                               0.50618\n",
       "dtype: object"
      ]
     },
     "execution_count": 103,
     "metadata": {},
     "output_type": "execute_result"
    }
   ],
   "source": [
    "# domain_df.sum()\n",
    "# domain_df[domain_df['feature_importance'].isnull()==False].sum()\n",
    "# domain_df[domain_df['feature_importance'].isnull()==False][:50].sum()\n",
    "# domain_df[domain_df['feature_importance'].isnull()==False][:20].sum()\n",
    "domain_df[(domain_df['feature_importance'].isnull()==False) & (domain_df['search_hits']==1)][:50].sum()\n",
    "\n"
   ]
  },
  {
   "cell_type": "code",
   "execution_count": 104,
   "metadata": {},
   "outputs": [],
   "source": [
    "domain_df.to_csv('../Manuscript/protein_domain_information.tsv', sep='\\t')"
   ]
  },
  {
   "cell_type": "code",
   "execution_count": null,
   "metadata": {},
   "outputs": [],
   "source": []
  },
  {
   "cell_type": "code",
   "execution_count": null,
   "metadata": {},
   "outputs": [],
   "source": []
  }
 ],
 "metadata": {
  "kernelspec": {
   "display_name": "Python 3",
   "language": "python",
   "name": "python3"
  },
  "language_info": {
   "codemirror_mode": {
    "name": "ipython",
    "version": 3
   },
   "file_extension": ".py",
   "mimetype": "text/x-python",
   "name": "python",
   "nbconvert_exporter": "python",
   "pygments_lexer": "ipython3",
   "version": "3.7.7"
  },
  "toc": {
   "colors": {
    "hover_highlight": "#DAA520",
    "navigate_num": "#000000",
    "navigate_text": "#333333",
    "running_highlight": "#FF0000",
    "selected_highlight": "#FFD700",
    "sidebar_border": "#EEEEEE",
    "wrapper_background": "#FFFFFF"
   },
   "moveMenuLeft": true,
   "nav_menu": {
    "height": "48px",
    "width": "252px"
   },
   "navigate_menu": true,
   "number_sections": true,
   "sideBar": true,
   "threshold": 4,
   "toc_cell": false,
   "toc_section_display": "block",
   "toc_window_display": false,
   "widenNotebook": false
  }
 },
 "nbformat": 4,
 "nbformat_minor": 4
}
