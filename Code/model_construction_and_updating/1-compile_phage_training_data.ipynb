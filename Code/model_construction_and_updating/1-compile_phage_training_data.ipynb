{
 "cells": [
  {
   "cell_type": "markdown",
   "metadata": {},
   "source": [
    "# Notes:\n",
    "\n",
    "This notebook is for compiling and processing the phage genomes that will be used as ground-truth benchmarks for training/testing a lifestyle prediction model. The notebook should be stepped through top to bottom and assumes that you have cloned this repository in it's entirety, including data folders with identical directory structures. No promises made on how it will run on Windows machines.\n",
    "\n",
    "Of particular note is that this notebook is very specific to this one phage training dataset and the code will need re-factoring depending on the format (data tables, column names, etc.) of any potential future training datasets."
   ]
  },
  {
   "cell_type": "markdown",
   "metadata": {},
   "source": [
    "# Imports"
   ]
  },
  {
   "cell_type": "code",
   "execution_count": 1,
   "metadata": {},
   "outputs": [],
   "source": [
    "import pandas as pd\n",
    "from Bio import SeqIO, Entrez\n",
    "import glob\n",
    "\n",
    "import time\n",
    "import os"
   ]
  },
  {
   "cell_type": "markdown",
   "metadata": {},
   "source": [
    "# Constants"
   ]
  },
  {
   "cell_type": "code",
   "execution_count": 2,
   "metadata": {},
   "outputs": [],
   "source": [
    "base_dir = '../../Data/model_data/phage_data_nmicro2017/'\n",
    "annotations_file = base_dir + 'original_data/41564_2017_BFnmicrobiol2017112_MOESM2_ESM.csv'\n",
    "phagesdb_fasta_file = base_dir + 'original_data/Actinobacteriophages-All.fasta'\n",
    "fasta_dir = base_dir + 'phage_fasta_files/'\n",
    "processed_df_outfile = base_dir + 'processed_benchmark_set.csv'\n",
    "\n",
    "##############################################\n",
    "#If you're re-running this dataframe with the intention of downloading or re-downloading\n",
    "#genome data in bulk from NCBI please be sure to provide your email address for them\n",
    "#If you have cloned the full repository for this project, all files should be accessible \n",
    "#and will not re-download by default making this superfluous\n",
    "Entrez.email = 'ENTER YOUR EMAIL ADDRESS HERE'\n",
    "##############################################"
   ]
  },
  {
   "cell_type": "code",
   "execution_count": 4,
   "metadata": {},
   "outputs": [],
   "source": [
    "###Make sure that all the directories and file paths are valid\n",
    "for directory in [base_dir, fasta_dir]:\n",
    "    assert os.path.exists(directory)\n",
    "\n",
    "for file_of_interest in [annotations_file, phagesdb_fasta_file]:\n",
    "    assert os.path.exists(file_of_interest)"
   ]
  },
  {
   "cell_type": "markdown",
   "metadata": {},
   "source": [
    "# Select phages of interest from the starting file"
   ]
  },
  {
   "cell_type": "code",
   "execution_count": 5,
   "metadata": {},
   "outputs": [
    {
     "name": "stdout",
     "output_type": "stream",
     "text": [
      "Starting dataframe shape: (2333, 22)\n",
      "Ground truth dataframe shape: (1059, 22)\n"
     ]
    },
    {
     "data": {
      "text/html": [
       "<div>\n",
       "<style scoped>\n",
       "    .dataframe tbody tr th:only-of-type {\n",
       "        vertical-align: middle;\n",
       "    }\n",
       "\n",
       "    .dataframe tbody tr th {\n",
       "        vertical-align: top;\n",
       "    }\n",
       "\n",
       "    .dataframe thead th {\n",
       "        text-align: right;\n",
       "    }\n",
       "</style>\n",
       "<table border=\"1\" class=\"dataframe\">\n",
       "  <thead>\n",
       "    <tr style=\"text-align: right;\">\n",
       "      <th></th>\n",
       "      <th>Virus identifier used for the analysis</th>\n",
       "      <th>Database source</th>\n",
       "      <th>RefSeq header source description</th>\n",
       "      <th>RefSeq accession number</th>\n",
       "      <th>Genome type</th>\n",
       "      <th>Order</th>\n",
       "      <th>Family</th>\n",
       "      <th>Host domain</th>\n",
       "      <th>Host phylum</th>\n",
       "      <th>Host class</th>\n",
       "      <th>...</th>\n",
       "      <th>Host genus</th>\n",
       "      <th>Cluster</th>\n",
       "      <th>Subcluster</th>\n",
       "      <th>Genome size</th>\n",
       "      <th>Number of genes used by Phamerator for creating phams</th>\n",
       "      <th>Used to optimize Mash parameters</th>\n",
       "      <th>Known to encode toxins or virulence factors</th>\n",
       "      <th>Temperate (empirical)</th>\n",
       "      <th>Temperate (bioinformatically predicted)</th>\n",
       "      <th>Evolutionary mode</th>\n",
       "    </tr>\n",
       "  </thead>\n",
       "  <tbody>\n",
       "    <tr>\n",
       "      <td>1</td>\n",
       "      <td>0507-kn2-1__nc_022343</td>\n",
       "      <td>NCBI RefSeq</td>\n",
       "      <td>Klebsiella phage 0507-KN2-1</td>\n",
       "      <td>NC_022343</td>\n",
       "      <td>dsDNA</td>\n",
       "      <td>Caudovirales</td>\n",
       "      <td>Myoviridae</td>\n",
       "      <td>Bacteria</td>\n",
       "      <td>Proteobacteria</td>\n",
       "      <td>Gammaproteobacteria</td>\n",
       "      <td>...</td>\n",
       "      <td>Klebsiella</td>\n",
       "      <td>Unspecified</td>\n",
       "      <td>Unspecified</td>\n",
       "      <td>159991</td>\n",
       "      <td>154</td>\n",
       "      <td>no</td>\n",
       "      <td>Unspecified</td>\n",
       "      <td>no</td>\n",
       "      <td>no</td>\n",
       "      <td>LGCF</td>\n",
       "    </tr>\n",
       "    <tr>\n",
       "      <td>14</td>\n",
       "      <td>11__nc_004615</td>\n",
       "      <td>NCBI RefSeq</td>\n",
       "      <td>Staphylococcus phage 11</td>\n",
       "      <td>NC_004615</td>\n",
       "      <td>dsDNA</td>\n",
       "      <td>Caudovirales</td>\n",
       "      <td>Siphoviridae</td>\n",
       "      <td>Bacteria</td>\n",
       "      <td>Firmicutes</td>\n",
       "      <td>Bacilli</td>\n",
       "      <td>...</td>\n",
       "      <td>Staphylococcus</td>\n",
       "      <td>Unspecified</td>\n",
       "      <td>Unspecified</td>\n",
       "      <td>43604</td>\n",
       "      <td>53</td>\n",
       "      <td>no</td>\n",
       "      <td>Unspecified</td>\n",
       "      <td>yes</td>\n",
       "      <td>yes</td>\n",
       "      <td>HGCF</td>\n",
       "    </tr>\n",
       "    <tr>\n",
       "      <td>19</td>\n",
       "      <td>13__nc_004617</td>\n",
       "      <td>NCBI RefSeq</td>\n",
       "      <td>Staphylococcus phage 13</td>\n",
       "      <td>NC_004617</td>\n",
       "      <td>dsDNA</td>\n",
       "      <td>Caudovirales</td>\n",
       "      <td>Siphoviridae</td>\n",
       "      <td>Bacteria</td>\n",
       "      <td>Firmicutes</td>\n",
       "      <td>Bacilli</td>\n",
       "      <td>...</td>\n",
       "      <td>Staphylococcus</td>\n",
       "      <td>Unspecified</td>\n",
       "      <td>Unspecified</td>\n",
       "      <td>42722</td>\n",
       "      <td>49</td>\n",
       "      <td>no</td>\n",
       "      <td>yes</td>\n",
       "      <td>yes</td>\n",
       "      <td>yes</td>\n",
       "      <td>HGCF</td>\n",
       "    </tr>\n",
       "    <tr>\n",
       "      <td>22</td>\n",
       "      <td>13a__nc_011045</td>\n",
       "      <td>NCBI RefSeq</td>\n",
       "      <td>Enterobacteria phage 13a</td>\n",
       "      <td>NC_011045</td>\n",
       "      <td>dsDNA</td>\n",
       "      <td>Caudovirales</td>\n",
       "      <td>Podoviridae</td>\n",
       "      <td>Bacteria</td>\n",
       "      <td>Proteobacteria</td>\n",
       "      <td>Gammaproteobacteria</td>\n",
       "      <td>...</td>\n",
       "      <td>Escherichia</td>\n",
       "      <td>Unspecified</td>\n",
       "      <td>Unspecified</td>\n",
       "      <td>38841</td>\n",
       "      <td>55</td>\n",
       "      <td>no</td>\n",
       "      <td>Unspecified</td>\n",
       "      <td>no</td>\n",
       "      <td>no</td>\n",
       "      <td>LGCF</td>\n",
       "    </tr>\n",
       "    <tr>\n",
       "      <td>27</td>\n",
       "      <td>1717__nc_011357</td>\n",
       "      <td>NCBI RefSeq</td>\n",
       "      <td>Stx2-converting phage 1717</td>\n",
       "      <td>NC_011357</td>\n",
       "      <td>dsDNA</td>\n",
       "      <td>Caudovirales</td>\n",
       "      <td>Siphoviridae</td>\n",
       "      <td>Bacteria</td>\n",
       "      <td>Proteobacteria</td>\n",
       "      <td>Gammaproteobacteria</td>\n",
       "      <td>...</td>\n",
       "      <td>Escherichia</td>\n",
       "      <td>Unspecified</td>\n",
       "      <td>Unspecified</td>\n",
       "      <td>62147</td>\n",
       "      <td>77</td>\n",
       "      <td>no</td>\n",
       "      <td>yes</td>\n",
       "      <td>yes</td>\n",
       "      <td>yes</td>\n",
       "      <td>HGCF</td>\n",
       "    </tr>\n",
       "  </tbody>\n",
       "</table>\n",
       "<p>5 rows × 22 columns</p>\n",
       "</div>"
      ],
      "text/plain": [
       "   Virus identifier used for the analysis Database source  \\\n",
       "1                   0507-kn2-1__nc_022343     NCBI RefSeq   \n",
       "14                          11__nc_004615     NCBI RefSeq   \n",
       "19                          13__nc_004617     NCBI RefSeq   \n",
       "22                         13a__nc_011045     NCBI RefSeq   \n",
       "27                        1717__nc_011357     NCBI RefSeq   \n",
       "\n",
       "   RefSeq header source description RefSeq accession number Genome type  \\\n",
       "1       Klebsiella phage 0507-KN2-1               NC_022343       dsDNA   \n",
       "14          Staphylococcus phage 11               NC_004615       dsDNA   \n",
       "19          Staphylococcus phage 13               NC_004617       dsDNA   \n",
       "22         Enterobacteria phage 13a               NC_011045       dsDNA   \n",
       "27       Stx2-converting phage 1717               NC_011357       dsDNA   \n",
       "\n",
       "           Order        Family Host domain     Host phylum  \\\n",
       "1   Caudovirales    Myoviridae    Bacteria  Proteobacteria   \n",
       "14  Caudovirales  Siphoviridae    Bacteria      Firmicutes   \n",
       "19  Caudovirales  Siphoviridae    Bacteria      Firmicutes   \n",
       "22  Caudovirales   Podoviridae    Bacteria  Proteobacteria   \n",
       "27  Caudovirales  Siphoviridae    Bacteria  Proteobacteria   \n",
       "\n",
       "             Host class  ...      Host genus      Cluster   Subcluster  \\\n",
       "1   Gammaproteobacteria  ...      Klebsiella  Unspecified  Unspecified   \n",
       "14              Bacilli  ...  Staphylococcus  Unspecified  Unspecified   \n",
       "19              Bacilli  ...  Staphylococcus  Unspecified  Unspecified   \n",
       "22  Gammaproteobacteria  ...     Escherichia  Unspecified  Unspecified   \n",
       "27  Gammaproteobacteria  ...     Escherichia  Unspecified  Unspecified   \n",
       "\n",
       "   Genome size Number of genes used by Phamerator for creating phams  \\\n",
       "1       159991                                                154      \n",
       "14       43604                                                 53      \n",
       "19       42722                                                 49      \n",
       "22       38841                                                 55      \n",
       "27       62147                                                 77      \n",
       "\n",
       "    Used to optimize Mash parameters  \\\n",
       "1                                 no   \n",
       "14                                no   \n",
       "19                                no   \n",
       "22                                no   \n",
       "27                                no   \n",
       "\n",
       "    Known to encode toxins or virulence factors Temperate (empirical)  \\\n",
       "1                                   Unspecified                    no   \n",
       "14                                  Unspecified                   yes   \n",
       "19                                          yes                   yes   \n",
       "22                                  Unspecified                    no   \n",
       "27                                          yes                   yes   \n",
       "\n",
       "   Temperate (bioinformatically predicted) Evolutionary mode  \n",
       "1                                       no              LGCF  \n",
       "14                                     yes              HGCF  \n",
       "19                                     yes              HGCF  \n",
       "22                                      no              LGCF  \n",
       "27                                     yes              HGCF  \n",
       "\n",
       "[5 rows x 22 columns]"
      ]
     },
     "execution_count": 5,
     "metadata": {},
     "output_type": "execute_result"
    }
   ],
   "source": [
    "df = pd.read_csv(annotations_file)\n",
    "print('Starting dataframe shape:', df.shape)\n",
    "df = df[df['Temperate (empirical)'] != 'Unspecified']\n",
    "print('Ground truth dataframe shape:', df.shape)\n",
    "df.head()"
   ]
  },
  {
   "cell_type": "code",
   "execution_count": null,
   "metadata": {},
   "outputs": [],
   "source": []
  },
  {
   "cell_type": "markdown",
   "metadata": {},
   "source": [
    "# Scan through bulk fasta file from PhagesDB to isolate and write individual records of interest\n",
    "\n",
    "Note that this file was retreived in March 2020, from https://phagesdb.org/data/\n",
    "\n",
    "The relevant data file was listed under the heading:\n",
    "\"Download Multifasta of All Actinobacteriophage Genomes\""
   ]
  },
  {
   "cell_type": "code",
   "execution_count": 6,
   "metadata": {},
   "outputs": [
    {
     "name": "stdout",
     "output_type": "stream",
     "text": [
      "Contains 3359 separate fasta sequences\n",
      "\n",
      "########## Here is an example entry:\n",
      "ID: Mycobacterium\n",
      "Name: Mycobacterium\n",
      "Description: Mycobacterium phage 20ES complete sequence, 53124 bp including 10-base 3' overhang (CGGTCGGTTA), Cluster A2\n",
      "Number of features: 0\n",
      "Seq('TGCGGCCGCCCCATCCTGTACGGGTTTCCAAGTCGATCGGAGGGCAGAGTCGGC...TTA', SingleLetterAlphabet())\n"
     ]
    }
   ],
   "source": [
    "fastas = list(SeqIO.parse(phagesdb_fasta_file, 'fasta'))\n",
    "print('Contains {} separate fasta sequences'.format(len(fastas)))\n",
    "print()\n",
    "print('########## Here is an example entry:')\n",
    "print(fastas[0])"
   ]
  },
  {
   "cell_type": "markdown",
   "metadata": {},
   "source": [
    "**Pattern matching data to pair the `csv` file entries with `fasta` records**"
   ]
  },
  {
   "cell_type": "code",
   "execution_count": 7,
   "metadata": {},
   "outputs": [
    {
     "name": "stdout",
     "output_type": "stream",
     "text": [
      "bennie 0\n",
      "guacamole 0\n",
      "harvey 0\n",
      "kamiyu 0\n",
      "schwabeltier 0\n",
      "theloniousmonk 0\n",
      "wayne 0\n"
     ]
    }
   ],
   "source": [
    "temp_df = df[df['Database source'] == 'Actinobacteriophage_785']\n",
    "problem_cases = []\n",
    "for index in temp_df.index[:]:\n",
    "    found = []\n",
    "    identifier = temp_df.loc[index]['Virus identifier used for the analysis'].split('_')[0].lower()\n",
    "    for fasta in fastas:\n",
    "        if identifier in fasta.description.lower().split(' '):\n",
    "            found.append(fasta)\n",
    "    if len(found) != 1:\n",
    "        problem_cases.append(identifier)\n",
    "        print(identifier, len(found))\n",
    "        continue\n",
    "    SeqIO.write(found[0], fasta_dir + '{}.fasta'.format(identifier), 'fasta')"
   ]
  },
  {
   "cell_type": "code",
   "execution_count": 8,
   "metadata": {},
   "outputs": [
    {
     "name": "stdout",
     "output_type": "stream",
     "text": [
      "schwabeltier 0\n",
      "theloniousmonk 0\n"
     ]
    }
   ],
   "source": [
    "###Cleaning up and dealing with some of those problem cases\n",
    "for index in temp_df.index[:]:\n",
    "    found = []\n",
    "    identifier = temp_df.loc[index]['Virus identifier used for the analysis'].split('_')[0].lower()\n",
    "    \n",
    "    ########\n",
    "    if identifier not in problem_cases:\n",
    "        continue\n",
    "    ########\n",
    "    \n",
    "    for fasta in fastas:\n",
    "        if identifier in fasta.description.lower().replace(',', ' ').replace('_', ' ').split(' '):\n",
    "            found.append(fasta)\n",
    "    if len(found) != 1:\n",
    "        problem_cases.append(identifier)\n",
    "        print(identifier, len(found))\n",
    "        continue\n",
    "    SeqIO.write(found[0], fasta_dir + '{}.fasta'.format(identifier), 'fasta')"
   ]
  },
  {
   "cell_type": "code",
   "execution_count": 9,
   "metadata": {},
   "outputs": [
    {
     "name": "stdout",
     "output_type": "stream",
     "text": [
      "(1057, 22)\n"
     ]
    }
   ],
   "source": [
    "###Remove the problematic cases that for some reason or another I can't easily find\n",
    "df = df[df['Virus identifier used for the analysis'].str.contains('schwabeltier', case=False) == False]\n",
    "df = df[df['Virus identifier used for the analysis'].str.contains('theloniousmonk', case=False) == False]\n",
    "print(df.shape)"
   ]
  },
  {
   "cell_type": "markdown",
   "metadata": {},
   "source": [
    "**Write the new dataframe containing all of the actinobacteria phages that I was able  to find and for which we have lifestyle annotations**"
   ]
  },
  {
   "cell_type": "code",
   "execution_count": 12,
   "metadata": {},
   "outputs": [],
   "source": [
    "df.to_csv(processed_df_outfile)"
   ]
  },
  {
   "cell_type": "markdown",
   "metadata": {},
   "source": [
    "# Download RefSeq data from NCBI\n",
    "\n",
    "This section will download full genome fasta files from NCBI and as such may take some time to run, and should probably be run at night time. In reality, the number is fairly small so it's not placing a heavy burden on NCBI servers but be conscious and aware of bulk downloading in this manner"
   ]
  },
  {
   "cell_type": "code",
   "execution_count": 13,
   "metadata": {},
   "outputs": [
    {
     "name": "stdout",
     "output_type": "stream",
     "text": [
      "(506, 22)\n"
     ]
    }
   ],
   "source": [
    "temp_df = df[df['Database source'] == 'NCBI RefSeq']\n",
    "print(temp_df.shape)"
   ]
  },
  {
   "cell_type": "code",
   "execution_count": 14,
   "metadata": {},
   "outputs": [],
   "source": [
    "for index in temp_df.index[:]:\n",
    "    print(index)\n",
    "    accession = temp_df.loc[index]['RefSeq accession number']\n",
    "    \n",
    "    #####################################################################\n",
    "    ###Don't download if I already have the file downloaded and ready to go\n",
    "    if os.path.exists(fasta_dir + '{}.fasta'.format(accession)):\n",
    "        continue\n",
    "    #####################################################################\n",
    "\n",
    "    handle = Entrez.efetch(db='nuccore', id=accession, rettype='fasta', retmode='text')\n",
    "    text = handle.read()\n",
    "    handle.close()\n",
    "    with open(fasta_dir + '{}.fasta'.format(accession), 'w') as outfile:\n",
    "        outfile.write(text)\n",
    "    time.sleep(10)"
   ]
  },
  {
   "cell_type": "markdown",
   "metadata": {},
   "source": [
    "**Ensuring that everything was downloaded by checking that each genome sequence is parseable and at least 1000 nts long**"
   ]
  },
  {
   "cell_type": "code",
   "execution_count": 15,
   "metadata": {},
   "outputs": [
    {
     "name": "stdout",
     "output_type": "stream",
     "text": [
      "0\n"
     ]
    }
   ],
   "source": [
    "problem_cases = []\n",
    "for index in temp_df.index[:]:\n",
    "    accession = temp_df.loc[index]['RefSeq accession number']\n",
    "    if os.path.exists(fasta_dir + '{}.fasta'.format(accession)):\n",
    "        record = SeqIO.read(fasta_dir + '{}.fasta'.format(accession), format='fasta')\n",
    "        if len(record.seq) < 1000:\n",
    "            problem_cases.append(accession)\n",
    "print(len(problem_cases))"
   ]
  },
  {
   "cell_type": "code",
   "execution_count": null,
   "metadata": {},
   "outputs": [],
   "source": []
  },
  {
   "cell_type": "markdown",
   "metadata": {},
   "source": [
    "**fin.**"
   ]
  }
 ],
 "metadata": {
  "kernelspec": {
   "display_name": "Python 3",
   "language": "python",
   "name": "python3"
  },
  "language_info": {
   "codemirror_mode": {
    "name": "ipython",
    "version": 3
   },
   "file_extension": ".py",
   "mimetype": "text/x-python",
   "name": "python",
   "nbconvert_exporter": "python",
   "pygments_lexer": "ipython3",
   "version": "3.7.4"
  },
  "toc": {
   "colors": {
    "hover_highlight": "#DAA520",
    "navigate_num": "#000000",
    "navigate_text": "#333333",
    "running_highlight": "#FF0000",
    "selected_highlight": "#FFD700",
    "sidebar_border": "#EEEEEE",
    "wrapper_background": "#FFFFFF"
   },
   "moveMenuLeft": true,
   "nav_menu": {
    "height": "138px",
    "width": "252px"
   },
   "navigate_menu": true,
   "number_sections": true,
   "sideBar": true,
   "threshold": 4,
   "toc_cell": false,
   "toc_section_display": "block",
   "toc_window_display": false,
   "widenNotebook": false
  }
 },
 "nbformat": 4,
 "nbformat_minor": 2
}
