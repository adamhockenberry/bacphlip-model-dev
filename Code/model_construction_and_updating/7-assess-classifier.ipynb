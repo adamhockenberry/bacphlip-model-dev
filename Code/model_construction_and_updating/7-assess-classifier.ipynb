{
 "cells": [
  {
   "cell_type": "code",
   "execution_count": 1,
   "metadata": {},
   "outputs": [],
   "source": [
    "%matplotlib inline"
   ]
  },
  {
   "cell_type": "markdown",
   "metadata": {},
   "source": [
    "# Imports"
   ]
  },
  {
   "cell_type": "code",
   "execution_count": 2,
   "metadata": {},
   "outputs": [],
   "source": [
    "import joblib\n",
    "import pandas as pd\n",
    "import glob\n",
    "\n",
    "import numpy as np\n",
    "from matplotlib import pyplot as plt"
   ]
  },
  {
   "cell_type": "markdown",
   "metadata": {},
   "source": [
    "# Read in / process data"
   ]
  },
  {
   "cell_type": "code",
   "execution_count": 5,
   "metadata": {},
   "outputs": [
    {
     "name": "stdout",
     "output_type": "stream",
     "text": [
      "(634, 229)\n",
      "(423, 229)\n"
     ]
    }
   ],
   "source": [
    "###Load classifier model\n",
    "clf = joblib.load('../../Data/rf_highMinAJH.joblib')\n",
    "\n",
    "###Load datasets\n",
    "train_df = pd.read_csv('../../Data/train_df.csv', index_col=0)\n",
    "print(train_df.shape)\n",
    "test_df = pd.read_csv('../../Data/test_df.csv', index_col=0)\n",
    "print(test_df.shape)"
   ]
  },
  {
   "cell_type": "markdown",
   "metadata": {},
   "source": [
    "**Integrate my predictions into dataframe**"
   ]
  },
  {
   "cell_type": "code",
   "execution_count": 29,
   "metadata": {},
   "outputs": [
    {
     "data": {
      "text/plain": [
       "COG0582       0\n",
       "COG0675       0\n",
       "COG1475       0\n",
       "COG1662       0\n",
       "COG1961       0\n",
       "             ..\n",
       "pfam18763     0\n",
       "pfam18803     0\n",
       "pfam18804     0\n",
       "pfam18866     0\n",
       "smart00674    0\n",
       "Name: 514, Length: 206, dtype: object"
      ]
     },
     "execution_count": 29,
     "metadata": {},
     "output_type": "execute_result"
    }
   ],
   "source": [
    "test_df.iloc[0][test_df.columns[23:-2]]"
   ]
  },
  {
   "cell_type": "code",
   "execution_count": 30,
   "metadata": {},
   "outputs": [],
   "source": [
    "listy = clf.predict_proba(test_df[test_df.columns[23:-2]])"
   ]
  },
  {
   "cell_type": "code",
   "execution_count": 32,
   "metadata": {},
   "outputs": [
    {
     "data": {
      "text/plain": [
       "0.021052631578947368"
      ]
     },
     "execution_count": 32,
     "metadata": {},
     "output_type": "execute_result"
    }
   ],
   "source": [
    "listy[0][0]"
   ]
  },
  {
   "cell_type": "code",
   "execution_count": 6,
   "metadata": {},
   "outputs": [],
   "source": [
    "train_df['my_predictions'] = clf.predict(train_df[train_df.columns[23:]])\n",
    "test_df['my_predictions'] = clf.predict(test_df[test_df.columns[23:]])"
   ]
  },
  {
   "cell_type": "code",
   "execution_count": 7,
   "metadata": {},
   "outputs": [],
   "source": [
    "train_df['my_predictions'] = train_df['my_predictions'].replace(1, 'yes')\n",
    "train_df['my_predictions'] = train_df['my_predictions'].replace(0, 'no')\n",
    "\n",
    "test_df['my_predictions'] = test_df['my_predictions'].replace(1, 'yes')\n",
    "test_df['my_predictions'] = test_df['my_predictions'].replace(0, 'no')"
   ]
  },
  {
   "cell_type": "markdown",
   "metadata": {},
   "source": [
    "**Integrate PHACTS predictions into dataframe**"
   ]
  },
  {
   "cell_type": "code",
   "execution_count": 8,
   "metadata": {},
   "outputs": [],
   "source": [
    "listy = []\n",
    "for index in train_df.index[:]:\n",
    "    name = train_df.loc[index]['Identifier_AJH']\n",
    "#     phacts_out = '../../Data/model_data/phage_data_nmicro2017/PHACTS_results/{}_6frame.out'.format(name)\n",
    "#     name2 = phacts_out.split('/')[-1].split('_6frame.out')[0]\n",
    "    phacts_out = '../../Data/model_data/phage_data_nmicro2017/PHACTS_results/{}_prodigal.out'.format(name)\n",
    "    name2 = phacts_out.split('/')[-1].split('_prodigal.out')[0]\n",
    "    assert name == name2\n",
    "    phacts_df = pd.read_csv(phacts_out, sep='\\t', skiprows=3, header=None)\n",
    "    assert phacts_df.iloc[0][1] >= phacts_df.iloc[1][1]\n",
    "    if phacts_df.iloc[0][1] == phacts_df.iloc[1][1]:\n",
    "        listy.append('-')\n",
    "        continue\n",
    "    if phacts_df.iloc[0][0] == 'Temperate':\n",
    "        listy.append('yes')\n",
    "    else:\n",
    "        listy.append('no')\n",
    "train_df['Temperate_PHACTS'] = listy"
   ]
  },
  {
   "cell_type": "code",
   "execution_count": 9,
   "metadata": {},
   "outputs": [],
   "source": [
    "listy = []\n",
    "for index in test_df.index[:]:\n",
    "    name = test_df.loc[index]['Identifier_AJH']\n",
    "#     phacts_out = '../../Data/model_data/phage_data_nmicro2017/PHACTS_results/{}_6frame.out'.format(name)\n",
    "#     name2 = phacts_out.split('/')[-1].split('_6frame.out')[0]\n",
    "    phacts_out = '../../Data/model_data/phage_data_nmicro2017/PHACTS_results/{}_prodigal.out'.format(name)\n",
    "    name2 = phacts_out.split('/')[-1].split('_prodigal.out')[0]\n",
    "    assert name == name2\n",
    "    phacts_df = pd.read_csv(phacts_out, sep='\\t', skiprows=3, header=None)\n",
    "    assert phacts_df.iloc[0][1] >= phacts_df.iloc[1][1]\n",
    "    if phacts_df.iloc[0][1] == phacts_df.iloc[1][1]:\n",
    "        listy.append('-')\n",
    "        continue\n",
    "    if phacts_df.iloc[0][0] == 'Temperate':\n",
    "        listy.append('yes')\n",
    "    else:\n",
    "        listy.append('no')\n",
    "test_df['Temperate_PHACTS'] = listy"
   ]
  },
  {
   "cell_type": "code",
   "execution_count": null,
   "metadata": {},
   "outputs": [],
   "source": []
  },
  {
   "cell_type": "markdown",
   "metadata": {},
   "source": [
    "# Assess accuracies"
   ]
  },
  {
   "cell_type": "code",
   "execution_count": 10,
   "metadata": {},
   "outputs": [
    {
     "name": "stdout",
     "output_type": "stream",
     "text": [
      "Out of a starting shape of: (634, 231)\n",
      "(24, 231)\n",
      "(1, 231)\n",
      "(120, 231)\n"
     ]
    }
   ],
   "source": [
    "print('Out of a starting shape of: {}'.format(train_df.shape))\n",
    "\n",
    "print(train_df[train_df['Temperate (empirical)'] != \n",
    "               train_df['Temperate (bioinformatically predicted)']].shape)\n",
    "\n",
    "print(train_df[train_df['Temperate (empirical)'] != \n",
    "               train_df['my_predictions']].shape)\n",
    "\n",
    "\n",
    "print(train_df[train_df['Temperate (empirical)'] != \n",
    "               train_df['Temperate_PHACTS']].shape)"
   ]
  },
  {
   "cell_type": "code",
   "execution_count": 11,
   "metadata": {},
   "outputs": [
    {
     "name": "stdout",
     "output_type": "stream",
     "text": [
      "Out of a starting shape of: (423, 231)\n",
      "(19, 231)\n",
      "(8, 231)\n",
      "(89, 231)\n"
     ]
    }
   ],
   "source": [
    "print('Out of a starting shape of: {}'.format(test_df.shape))\n",
    "\n",
    "print(test_df[test_df['Temperate (empirical)'] != \n",
    "               test_df['Temperate (bioinformatically predicted)']].shape)\n",
    "\n",
    "print(test_df[test_df['Temperate (empirical)'] != \n",
    "               test_df['my_predictions']].shape)\n",
    "\n",
    "print(test_df[test_df['Temperate (empirical)'] != \n",
    "               test_df['Temperate_PHACTS']].shape)"
   ]
  },
  {
   "cell_type": "code",
   "execution_count": null,
   "metadata": {},
   "outputs": [],
   "source": []
  },
  {
   "cell_type": "markdown",
   "metadata": {},
   "source": [
    "# Plot"
   ]
  },
  {
   "cell_type": "code",
   "execution_count": 12,
   "metadata": {},
   "outputs": [
    {
     "name": "stdout",
     "output_type": "stream",
     "text": [
      "0.15772870662460567 3.7854889589905363 18.92744479495268\n"
     ]
    }
   ],
   "source": [
    "my_train_errors = train_df[train_df['Temperate (empirical)'] != \n",
    "                           train_df['my_predictions']].shape[0] /\\\n",
    "                            train_df.shape[0] * 100.\n",
    "\n",
    "other_train_errors = train_df[train_df['Temperate (empirical)'] != \n",
    "                           train_df['Temperate (bioinformatically predicted)']].shape[0] /\\\n",
    "                            train_df.shape[0] * 100.\n",
    "\n",
    "phacts_train_errors = train_df[train_df['Temperate (empirical)'] != \n",
    "                           train_df['Temperate_PHACTS']].shape[0] /\\\n",
    "                            train_df.shape[0] * 100.\n",
    "print(my_train_errors, other_train_errors, phacts_train_errors)"
   ]
  },
  {
   "cell_type": "code",
   "execution_count": 13,
   "metadata": {},
   "outputs": [
    {
     "name": "stdout",
     "output_type": "stream",
     "text": [
      "1.8912529550827424 4.491725768321513 21.04018912529551\n"
     ]
    }
   ],
   "source": [
    "my_test_errors = test_df[test_df['Temperate (empirical)'] != \n",
    "                           test_df['my_predictions']].shape[0] /\\\n",
    "                            test_df.shape[0] * 100.\n",
    "\n",
    "other_test_errors = test_df[test_df['Temperate (empirical)'] != \n",
    "                           test_df['Temperate (bioinformatically predicted)']].shape[0] /\\\n",
    "                            test_df.shape[0] * 100.\n",
    "\n",
    "phacts_test_errors = test_df[test_df['Temperate (empirical)'] != \n",
    "                           test_df['Temperate_PHACTS']].shape[0] /\\\n",
    "                            test_df.shape[0] * 100.\n",
    "\n",
    "print(my_test_errors, other_test_errors, phacts_test_errors)"
   ]
  },
  {
   "cell_type": "code",
   "execution_count": 14,
   "metadata": {},
   "outputs": [
    {
     "data": {
      "image/png": "[encoded data removed]",
      "text/plain": [
       "<Figure size 432x288 with 1 Axes>"
      ]
     },
     "metadata": {
      "needs_background": "light"
     },
     "output_type": "display_data"
    }
   ],
   "source": [
    "N = 2\n",
    "my_errs = [my_train_errors, my_test_errors]\n",
    "other_errs = [other_train_errors, other_test_errors]\n",
    "phacts_errs = [phacts_train_errors, phacts_test_errors]\n",
    "\n",
    "fig, ax = plt.subplots()\n",
    "ind = np.arange(N)    # the x locations for the groups\n",
    "width = 0.25         # the width of the bars\n",
    "p1 = ax.bar(ind, my_errs, width)\n",
    "p2 = ax.bar(ind+width, other_errs, width)\n",
    "p3 = ax.bar(ind+width+width, phacts_errs, width)\n",
    "\n",
    "\n",
    "ax.set_xticks([0.25, 1.25])\n",
    "ax.set_xticklabels(['Training set', 'Testing set'])\n",
    "\n",
    "ax.legend((p1[0], p2[0], p3[0]), ('Mine', 'Other', 'PHACTS'))\n",
    "ax.set_ylabel('% Error');"
   ]
  },
  {
   "cell_type": "code",
   "execution_count": null,
   "metadata": {},
   "outputs": [],
   "source": []
  },
  {
   "cell_type": "markdown",
   "metadata": {},
   "source": [
    "# A more challenging test set"
   ]
  },
  {
   "cell_type": "code",
   "execution_count": 15,
   "metadata": {},
   "outputs": [],
   "source": [
    "import json\n",
    "with open('../../Data/model_data/clusters.json', 'r') as infile:\n",
    "    clusters = json.load(infile)"
   ]
  },
  {
   "cell_type": "code",
   "execution_count": 18,
   "metadata": {},
   "outputs": [
    {
     "name": "stdout",
     "output_type": "stream",
     "text": [
      "(172, 231)\n"
     ]
    }
   ],
   "source": [
    "temp_names = list(train_df['Identifier_AJH'])\n",
    "\n",
    "independent_set = []\n",
    "for cluster in clusters:\n",
    "    hits = []\n",
    "    for member in cluster:\n",
    "        if member in temp_names:\n",
    "            hits.append(member)\n",
    "    if len(hits) == 0:\n",
    "        independent_set.extend(cluster)\n",
    "        \n",
    "###Get the challenging set        \n",
    "temp_df = test_df[test_df['Identifier_AJH'].isin(independent_set)]\n",
    "print(temp_df.shape)"
   ]
  },
  {
   "cell_type": "code",
   "execution_count": 19,
   "metadata": {},
   "outputs": [
    {
     "name": "stdout",
     "output_type": "stream",
     "text": [
      "3.488372093023256 6.976744186046512 18.023255813953487\n"
     ]
    }
   ],
   "source": [
    "my_temp_errors = temp_df[temp_df['Temperate (empirical)'] != \n",
    "                           temp_df['my_predictions']].shape[0] /\\\n",
    "                            temp_df.shape[0] * 100.\n",
    "\n",
    "other_temp_errors = temp_df[temp_df['Temperate (empirical)'] != \n",
    "                           temp_df['Temperate (bioinformatically predicted)']].shape[0] /\\\n",
    "                            temp_df.shape[0] * 100.\n",
    "\n",
    "phacts_temp_errors = temp_df[temp_df['Temperate (empirical)'] != \n",
    "                           temp_df['Temperate_PHACTS']].shape[0] /\\\n",
    "                            temp_df.shape[0] * 100.\n",
    "\n",
    "print(my_temp_errors, other_temp_errors, phacts_temp_errors)"
   ]
  },
  {
   "cell_type": "code",
   "execution_count": null,
   "metadata": {},
   "outputs": [],
   "source": []
  },
  {
   "cell_type": "code",
   "execution_count": null,
   "metadata": {},
   "outputs": [],
   "source": []
  },
  {
   "cell_type": "code",
   "execution_count": null,
   "metadata": {},
   "outputs": [],
   "source": [
    "train_df[train_df['Temperate (empirical)'] != \n",
    "               train_df['Temperate (bioinformatically predicted)']][['Temperate (empirical)',\\\n",
    "                                           'Temperate (bioinformatically predicted)',\\\n",
    "                                           'my_predictions',\\\n",
    "                                           'Temperate_PHACTS']]"
   ]
  },
  {
   "cell_type": "code",
   "execution_count": null,
   "metadata": {},
   "outputs": [],
   "source": [
    "print('Correct:', train_df[(train_df['Temperate (empirical)']=='yes') & \n",
    "               (train_df['Temperate_PHACTS']=='yes')].shape[0])\n",
    "\n",
    "print('Error:', train_df[(train_df['Temperate (empirical)']=='no') & \n",
    "               (train_df['Temperate_PHACTS']=='yes')].shape[0])\n",
    "\n",
    "print('Correct:', train_df[(train_df['Temperate (empirical)']=='no') & \n",
    "               (train_df['Temperate_PHACTS']=='no')].shape[0])\n",
    "\n",
    "print('Error:', train_df[(train_df['Temperate (empirical)']=='yes') & \n",
    "               (train_df['Temperate_PHACTS']=='no')].shape[0])"
   ]
  },
  {
   "cell_type": "code",
   "execution_count": null,
   "metadata": {},
   "outputs": [],
   "source": [
    "print('Correct:', test_df[(test_df['Temperate (empirical)']=='yes') & \n",
    "               (test_df['Temperate_PHACTS']=='yes')].shape[0])\n",
    "\n",
    "print('Error:', test_df[(test_df['Temperate (empirical)']=='no') & \n",
    "               (test_df['Temperate_PHACTS']=='yes')].shape[0])\n",
    "\n",
    "print('Correct:', test_df[(test_df['Temperate (empirical)']=='no') & \n",
    "               (test_df['Temperate_PHACTS']=='no')].shape[0])\n",
    "\n",
    "print('Error:', test_df[(test_df['Temperate (empirical)']=='yes') & \n",
    "               (test_df['Temperate_PHACTS']=='no')].shape[0])"
   ]
  },
  {
   "cell_type": "code",
   "execution_count": null,
   "metadata": {},
   "outputs": [],
   "source": []
  }
 ],
 "metadata": {
  "kernelspec": {
   "display_name": "Python 3",
   "language": "python",
   "name": "python3"
  },
  "language_info": {
   "codemirror_mode": {
    "name": "ipython",
    "version": 3
   },
   "file_extension": ".py",
   "mimetype": "text/x-python",
   "name": "python",
   "nbconvert_exporter": "python",
   "pygments_lexer": "ipython3",
   "version": "3.7.4"
  },
  "toc": {
   "colors": {
    "hover_highlight": "#DAA520",
    "navigate_num": "#000000",
    "navigate_text": "#333333",
    "running_highlight": "#FF0000",
    "selected_highlight": "#FFD700",
    "sidebar_border": "#EEEEEE",
    "wrapper_background": "#FFFFFF"
   },
   "moveMenuLeft": true,
   "nav_menu": {
    "height": "102px",
    "width": "252px"
   },
   "navigate_menu": true,
   "number_sections": true,
   "sideBar": true,
   "threshold": 4,
   "toc_cell": false,
   "toc_section_display": "block",
   "toc_window_display": false,
   "widenNotebook": false
  }
 },
 "nbformat": 4,
 "nbformat_minor": 2
}
