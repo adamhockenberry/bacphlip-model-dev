{
 "cells": [
  {
   "cell_type": "code",
   "execution_count": 1,
   "metadata": {},
   "outputs": [],
   "source": [
    "%matplotlib inline"
   ]
  },
  {
   "cell_type": "markdown",
   "metadata": {},
   "source": [
    "~/workspace/fastANI --ql file_listing.txt --rl file_listing.txt --fragLen 300 --minFraction 0.8 -o first_pass_ANI.output\n",
    "\n",
    "~/workspace/fastANI --ql file_listing.txt --rl file_listing.txt --fragLen 300 --minFraction 0.9 -o fifth_pass_ANI.output"
   ]
  },
  {
   "cell_type": "code",
   "execution_count": 2,
   "metadata": {},
   "outputs": [],
   "source": [
    "import pandas as pd\n",
    "from Bio import SeqIO\n",
    "import glob"
   ]
  },
  {
   "cell_type": "code",
   "execution_count": 86,
   "metadata": {},
   "outputs": [
    {
     "name": "stdout",
     "output_type": "stream",
     "text": [
      "(1045, 5)\n",
      "(10961, 5)\n"
     ]
    },
    {
     "data": {
      "text/html": [
       "<div>\n",
       "<style scoped>\n",
       "    .dataframe tbody tr th:only-of-type {\n",
       "        vertical-align: middle;\n",
       "    }\n",
       "\n",
       "    .dataframe tbody tr th {\n",
       "        vertical-align: top;\n",
       "    }\n",
       "\n",
       "    .dataframe thead th {\n",
       "        text-align: right;\n",
       "    }\n",
       "</style>\n",
       "<table border=\"1\" class=\"dataframe\">\n",
       "  <thead>\n",
       "    <tr style=\"text-align: right;\">\n",
       "      <th></th>\n",
       "      <th>query_seq</th>\n",
       "      <th>ref_seq</th>\n",
       "      <th>2</th>\n",
       "      <th>3</th>\n",
       "      <th>4</th>\n",
       "    </tr>\n",
       "  </thead>\n",
       "  <tbody>\n",
       "    <tr>\n",
       "      <td>0</td>\n",
       "      <td>NC_008464</td>\n",
       "      <td>NC_008464</td>\n",
       "      <td>100.0000</td>\n",
       "      <td>200</td>\n",
       "      <td>200</td>\n",
       "    </tr>\n",
       "    <tr>\n",
       "      <td>1</td>\n",
       "      <td>minerva</td>\n",
       "      <td>minerva</td>\n",
       "      <td>100.0000</td>\n",
       "      <td>366</td>\n",
       "      <td>366</td>\n",
       "    </tr>\n",
       "    <tr>\n",
       "      <td>2</td>\n",
       "      <td>minerva</td>\n",
       "      <td>optimus</td>\n",
       "      <td>96.5329</td>\n",
       "      <td>309</td>\n",
       "      <td>366</td>\n",
       "    </tr>\n",
       "    <tr>\n",
       "      <td>3</td>\n",
       "      <td>minerva</td>\n",
       "      <td>wanda</td>\n",
       "      <td>96.4687</td>\n",
       "      <td>317</td>\n",
       "      <td>366</td>\n",
       "    </tr>\n",
       "    <tr>\n",
       "      <td>4</td>\n",
       "      <td>minerva</td>\n",
       "      <td>baka</td>\n",
       "      <td>96.2789</td>\n",
       "      <td>309</td>\n",
       "      <td>366</td>\n",
       "    </tr>\n",
       "    <tr>\n",
       "      <td>5</td>\n",
       "      <td>island3</td>\n",
       "      <td>island3</td>\n",
       "      <td>100.0000</td>\n",
       "      <td>157</td>\n",
       "      <td>157</td>\n",
       "    </tr>\n",
       "    <tr>\n",
       "      <td>6</td>\n",
       "      <td>island3</td>\n",
       "      <td>brujita</td>\n",
       "      <td>99.6888</td>\n",
       "      <td>156</td>\n",
       "      <td>157</td>\n",
       "    </tr>\n",
       "    <tr>\n",
       "      <td>7</td>\n",
       "      <td>NC_004587</td>\n",
       "      <td>NC_004587</td>\n",
       "      <td>100.0000</td>\n",
       "      <td>139</td>\n",
       "      <td>139</td>\n",
       "    </tr>\n",
       "    <tr>\n",
       "      <td>8</td>\n",
       "      <td>NC_004587</td>\n",
       "      <td>NC_003157</td>\n",
       "      <td>99.9971</td>\n",
       "      <td>139</td>\n",
       "      <td>139</td>\n",
       "    </tr>\n",
       "    <tr>\n",
       "      <td>9</td>\n",
       "      <td>NC_024122</td>\n",
       "      <td>NC_024122</td>\n",
       "      <td>100.0000</td>\n",
       "      <td>541</td>\n",
       "      <td>543</td>\n",
       "    </tr>\n",
       "    <tr>\n",
       "      <td>10</td>\n",
       "      <td>NC_024122</td>\n",
       "      <td>NC_016073</td>\n",
       "      <td>97.6094</td>\n",
       "      <td>480</td>\n",
       "      <td>543</td>\n",
       "    </tr>\n",
       "    <tr>\n",
       "      <td>11</td>\n",
       "      <td>NC_024122</td>\n",
       "      <td>NC_016570</td>\n",
       "      <td>97.5490</td>\n",
       "      <td>485</td>\n",
       "      <td>543</td>\n",
       "    </tr>\n",
       "    <tr>\n",
       "      <td>12</td>\n",
       "      <td>NC_024122</td>\n",
       "      <td>NC_019530</td>\n",
       "      <td>97.3815</td>\n",
       "      <td>473</td>\n",
       "      <td>543</td>\n",
       "    </tr>\n",
       "    <tr>\n",
       "      <td>13</td>\n",
       "      <td>NC_024122</td>\n",
       "      <td>NC_019452</td>\n",
       "      <td>97.0824</td>\n",
       "      <td>480</td>\n",
       "      <td>543</td>\n",
       "    </tr>\n",
       "    <tr>\n",
       "      <td>14</td>\n",
       "      <td>NC_024122</td>\n",
       "      <td>NC_027119</td>\n",
       "      <td>96.5699</td>\n",
       "      <td>457</td>\n",
       "      <td>543</td>\n",
       "    </tr>\n",
       "    <tr>\n",
       "      <td>15</td>\n",
       "      <td>NC_024122</td>\n",
       "      <td>NC_023856</td>\n",
       "      <td>90.8379</td>\n",
       "      <td>421</td>\n",
       "      <td>543</td>\n",
       "    </tr>\n",
       "    <tr>\n",
       "      <td>16</td>\n",
       "      <td>NC_024122</td>\n",
       "      <td>NC_025446</td>\n",
       "      <td>89.6092</td>\n",
       "      <td>421</td>\n",
       "      <td>543</td>\n",
       "    </tr>\n",
       "    <tr>\n",
       "      <td>17</td>\n",
       "      <td>NC_024122</td>\n",
       "      <td>NC_015296</td>\n",
       "      <td>88.9026</td>\n",
       "      <td>426</td>\n",
       "      <td>543</td>\n",
       "    </tr>\n",
       "    <tr>\n",
       "      <td>18</td>\n",
       "      <td>NC_020082</td>\n",
       "      <td>NC_020082</td>\n",
       "      <td>100.0000</td>\n",
       "      <td>142</td>\n",
       "      <td>142</td>\n",
       "    </tr>\n",
       "    <tr>\n",
       "      <td>19</td>\n",
       "      <td>NC_020082</td>\n",
       "      <td>NC_021342</td>\n",
       "      <td>91.8749</td>\n",
       "      <td>119</td>\n",
       "      <td>142</td>\n",
       "    </tr>\n",
       "  </tbody>\n",
       "</table>\n",
       "</div>"
      ],
      "text/plain": [
       "    query_seq    ref_seq         2    3    4\n",
       "0   NC_008464  NC_008464  100.0000  200  200\n",
       "1     minerva    minerva  100.0000  366  366\n",
       "2     minerva    optimus   96.5329  309  366\n",
       "3     minerva      wanda   96.4687  317  366\n",
       "4     minerva       baka   96.2789  309  366\n",
       "5     island3    island3  100.0000  157  157\n",
       "6     island3    brujita   99.6888  156  157\n",
       "7   NC_004587  NC_004587  100.0000  139  139\n",
       "8   NC_004587  NC_003157   99.9971  139  139\n",
       "9   NC_024122  NC_024122  100.0000  541  543\n",
       "10  NC_024122  NC_016073   97.6094  480  543\n",
       "11  NC_024122  NC_016570   97.5490  485  543\n",
       "12  NC_024122  NC_019530   97.3815  473  543\n",
       "13  NC_024122  NC_019452   97.0824  480  543\n",
       "14  NC_024122  NC_027119   96.5699  457  543\n",
       "15  NC_024122  NC_023856   90.8379  421  543\n",
       "16  NC_024122  NC_025446   89.6092  421  543\n",
       "17  NC_024122  NC_015296   88.9026  426  543\n",
       "18  NC_020082  NC_020082  100.0000  142  142\n",
       "19  NC_020082  NC_021342   91.8749  119  142"
      ]
     },
     "execution_count": 86,
     "metadata": {},
     "output_type": "execute_result"
    }
   ],
   "source": [
    "input_df = pd.read_csv('./first_pass_ANI.output', header=None, sep='\\t')\n",
    "input_df['temp'] = input_df[0].str.split(\"/\").str[-1]\n",
    "input_df['query_seq'] = input_df['temp'].str.split('.').str[0]\n",
    "input_df['temp'] = input_df[1].str.split(\"/\").str[-1]\n",
    "input_df['ref_seq'] = input_df['temp'].str.split('.').str[0]\n",
    "input_df = input_df[['query_seq', 'ref_seq', 2, 3, 4]]\n",
    "print(input_df[input_df[2]==100.].shape)\n",
    "\n",
    "# input_df = input_df[input_df['query_seq'] != input_df['ref_seq']]\n",
    "print(input_df.shape)\n",
    "input_df.head(n=20)"
   ]
  },
  {
   "cell_type": "code",
   "execution_count": null,
   "metadata": {},
   "outputs": [],
   "source": []
  },
  {
   "cell_type": "code",
   "execution_count": 87,
   "metadata": {},
   "outputs": [
    {
     "name": "stdout",
     "output_type": "stream",
     "text": [
      "First, last record sequence length: 358663 , 5833\n"
     ]
    }
   ],
   "source": [
    "records = []\n",
    "for infile in glob.glob('../../Data/model_data/phage_data_nmicro2017/phage_fasta_files/*.fasta'):\n",
    "    tempy = SeqIO.read(infile, 'fasta')\n",
    "    records.append((infile.split('/')[-1].split('.')[0], len(tempy.seq)))\n",
    "records = sorted(records, key=lambda x: x[1], reverse=True) ###Critical step!\n",
    "print('First, last record sequence length:', records[0][1], ',', records[-1][1])"
   ]
  },
  {
   "cell_type": "code",
   "execution_count": 88,
   "metadata": {},
   "outputs": [],
   "source": [
    "thresh = 80\n",
    "clusters = []\n",
    "found = []\n",
    "for record in records[:]: ### Records must be sorted in order! (see above)\n",
    "    if record[0] in found:\n",
    "        continue\n",
    "    ###Find all instances of this record    \n",
    "    temp_df = input_df[(input_df['query_seq']==record[0]) | (input_df['ref_seq']==record[0])]\n",
    "    temp_df = temp_df[temp_df[2] > thresh]\n",
    "    if temp_df.shape[0] != 0:\n",
    "        all_seqs = list(set(list(temp_df['query_seq'])+list(temp_df['ref_seq'])))\n",
    "        all_seqs.insert(0, all_seqs.pop(all_seqs.index(record[0])))\n",
    "\n",
    "        clusters.append(all_seqs)\n",
    "        found.extend(all_seqs)\n",
    "        input_df = input_df[input_df['query_seq'].isin(all_seqs)==False]\n",
    "        input_df = input_df[input_df['ref_seq'].isin(all_seqs)==False]\n",
    "    else:\n",
    "        clusters.append([record[0]])\n",
    "        found.append(record[0])"
   ]
  },
  {
   "cell_type": "code",
   "execution_count": 89,
   "metadata": {},
   "outputs": [
    {
     "data": {
      "text/plain": [
       "(511, 1057)"
      ]
     },
     "execution_count": 89,
     "metadata": {},
     "output_type": "execute_result"
    }
   ],
   "source": [
    "len(clusters), sum([len(i) for i in clusters])"
   ]
  },
  {
   "cell_type": "code",
   "execution_count": 152,
   "metadata": {},
   "outputs": [
    {
     "data": {
      "text/plain": [
       "(1057, 22)"
      ]
     },
     "execution_count": 152,
     "metadata": {},
     "output_type": "execute_result"
    }
   ],
   "source": [
    "lifestyle_df = pd.read_csv('../../Data/model_data/phage_data_nmicro2017/processed_benchmark_set.csv', index_col=0)\n",
    "lifestyle_df.shape"
   ]
  },
  {
   "cell_type": "code",
   "execution_count": 153,
   "metadata": {},
   "outputs": [],
   "source": [
    "lifestyle_df['name'] = ''  \n",
    "lifestyle_df.at[lifestyle_df[lifestyle_df['Database source'] == 'NCBI RefSeq'].index, 'name'] =\\\n",
    "                    lifestyle_df[lifestyle_df['Database source'] == 'NCBI RefSeq']['RefSeq accession number']\n",
    "lifestyle_df.at[lifestyle_df[lifestyle_df['Database source'] == 'Actinobacteriophage_785'].index, 'name'] =\\\n",
    "                    lifestyle_df[lifestyle_df['Database source'] == 'Actinobacteriophage_785']['Virus identifier used for the analysis'].str.split('_').str[0]"
   ]
  },
  {
   "cell_type": "code",
   "execution_count": 154,
   "metadata": {},
   "outputs": [
    {
     "name": "stdout",
     "output_type": "stream",
     "text": [
      "647\n"
     ]
    }
   ],
   "source": [
    "cluster_firsts = [i[0] for i in clusters]\n",
    "print(len(cluster_firsts))\n",
    "lifestyle_df = lifestyle_df[lifestyle_df['name'].isin(cluster_firsts)]"
   ]
  },
  {
   "cell_type": "code",
   "execution_count": 155,
   "metadata": {},
   "outputs": [],
   "source": [
    "lifestyle_df = lifestyle_df.drop('name', axis=1)"
   ]
  },
  {
   "cell_type": "code",
   "execution_count": 156,
   "metadata": {},
   "outputs": [
    {
     "data": {
      "text/plain": [
       "(647, 22)"
      ]
     },
     "execution_count": 156,
     "metadata": {},
     "output_type": "execute_result"
    }
   ],
   "source": [
    "lifestyle_df.shape"
   ]
  },
  {
   "cell_type": "code",
   "execution_count": 157,
   "metadata": {},
   "outputs": [],
   "source": [
    "lifestyle_df.to_csv('../../Data/model_data/phage_data_nmicro2017/processed_benchmark_set_DEREP.csv')"
   ]
  },
  {
   "cell_type": "code",
   "execution_count": 65,
   "metadata": {},
   "outputs": [],
   "source": [
    "import json"
   ]
  },
  {
   "cell_type": "code",
   "execution_count": 90,
   "metadata": {},
   "outputs": [],
   "source": [
    "with open('../../Data/model_data/clusters.json', 'w') as outfile:\n",
    "    json.dump(clusters, outfile)"
   ]
  },
  {
   "cell_type": "code",
   "execution_count": null,
   "metadata": {},
   "outputs": [],
   "source": []
  }
 ],
 "metadata": {
  "kernelspec": {
   "display_name": "Python 3",
   "language": "python",
   "name": "python3"
  },
  "language_info": {
   "codemirror_mode": {
    "name": "ipython",
    "version": 3
   },
   "file_extension": ".py",
   "mimetype": "text/x-python",
   "name": "python",
   "nbconvert_exporter": "python",
   "pygments_lexer": "ipython3",
   "version": "3.7.4"
  },
  "toc": {
   "colors": {
    "hover_highlight": "#DAA520",
    "navigate_num": "#000000",
    "navigate_text": "#333333",
    "running_highlight": "#FF0000",
    "selected_highlight": "#FFD700",
    "sidebar_border": "#EEEEEE",
    "wrapper_background": "#FFFFFF"
   },
   "moveMenuLeft": true,
   "nav_menu": {
    "height": "12px",
    "width": "252px"
   },
   "navigate_menu": true,
   "number_sections": true,
   "sideBar": true,
   "threshold": 4,
   "toc_cell": false,
   "toc_section_display": "block",
   "toc_window_display": false,
   "widenNotebook": false
  }
 },
 "nbformat": 4,
 "nbformat_minor": 2
}
