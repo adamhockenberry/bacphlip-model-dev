{
 "cells": [
  {
   "cell_type": "markdown",
   "metadata": {},
   "source": [
    "# Notes:\n",
    "\n",
    "In building this model, I have separated out running code for **new** phages into a separate package called `bacphlip`. To ensure that this code-base gives the same results as when it's all thrown together here, I'm running a brief triple check to ensure that if I treat my \"test set\" of phages as if they were new, the results are equivalent. \n",
    "\n",
    "It's probably a good idea to run this with any updates."
   ]
  },
  {
   "cell_type": "markdown",
   "metadata": {},
   "source": [
    "# Imports"
   ]
  },
  {
   "cell_type": "code",
   "execution_count": 1,
   "metadata": {},
   "outputs": [],
   "source": [
    "import pandas as pd\n",
    "import os\n",
    "import shutil\n",
    "import glob\n",
    "import numpy as np\n",
    "\n",
    "import subprocess"
   ]
  },
  {
   "cell_type": "code",
   "execution_count": 2,
   "metadata": {},
   "outputs": [],
   "source": [
    "temp_dir = '/Users/adamhockenberry/Projects/bacphlip-model-dev/Data/bacphlip_test/'\n",
    "if not os.path.exists(temp_dir):\n",
    "    os.mkdir(temp_dir)"
   ]
  },
  {
   "cell_type": "code",
   "execution_count": 3,
   "metadata": {},
   "outputs": [],
   "source": [
    "orig_fasta_path = '../Data/phage_data_nmicro2017/phage_fasta_files/'\n",
    "test_df = pd.read_csv('../Data/classifier_data/test_df.csv', index_col=0)\n",
    "for i in test_df['Identifier_AJH']:\n",
    "    shutil.copyfile(orig_fasta_path+i+'.fasta', temp_dir+i+'.fasta')"
   ]
  },
  {
   "cell_type": "code",
   "execution_count": 4,
   "metadata": {},
   "outputs": [],
   "source": [
    "# for i in test_df['Identifier_AJH'][:10]:\n",
    "#     fasta_file = temp_dir+i+'.fasta'\n",
    "#     print(fasta_file)\n",
    "#     subprocess.run(args=['python',\\\n",
    "#                          '/Users/adamhockenberry/Projects/bacphlip-py/bacphlip/bacphlip.py',\\\n",
    "#                          '-i',\\\n",
    "#                          '{}'.format(fasta_file),\\\n",
    "#                          '-f'],\\\n",
    "#                   check=True)"
   ]
  },
  {
   "cell_type": "code",
   "execution_count": 5,
   "metadata": {},
   "outputs": [
    {
     "name": "stdout",
     "output_type": "stream",
     "text": [
      "/Users/adamhockenberry/Projects/bacphlip-model-dev/Data/bacphlip_test/eagleeye.fasta\n",
      "#################################################################################\n",
      "Beginning BACPHLIP pipeline\n",
      "Finished six frame translation of genome (nucleotide) with output stored in /Users/adamhockenberry/Projects/bacphlip-model-dev/Data/bacphlip_test/eagleeye.fasta.6frame\n",
      "Finished outside call to hmmsearch with output stored in /Users/adamhockenberry/Projects/bacphlip-model-dev/Data/bacphlip_test/eagleeye.fasta.hmmsearch\n",
      "Finished converting hmmsearch with output stored in /Users/adamhockenberry/Projects/bacphlip-model-dev/Data/bacphlip_test/eagleeye.fasta.hmmsearch.tsv\n",
      "Finished with BACPHLIP predictions! Final output file stored in /Users/adamhockenberry/Projects/bacphlip-model-dev/Data/bacphlip_test/eagleeye.fasta.bacphlip\n",
      "#################################################################################\n",
      "/Users/adamhockenberry/Projects/bacphlip-model-dev/Data/bacphlip_test/seagreen.fasta\n",
      "#################################################################################\n",
      "Beginning BACPHLIP pipeline\n",
      "Finished six frame translation of genome (nucleotide) with output stored in /Users/adamhockenberry/Projects/bacphlip-model-dev/Data/bacphlip_test/seagreen.fasta.6frame\n",
      "Finished outside call to hmmsearch with output stored in /Users/adamhockenberry/Projects/bacphlip-model-dev/Data/bacphlip_test/seagreen.fasta.hmmsearch\n",
      "Finished converting hmmsearch with output stored in /Users/adamhockenberry/Projects/bacphlip-model-dev/Data/bacphlip_test/seagreen.fasta.hmmsearch.tsv\n",
      "Finished with BACPHLIP predictions! Final output file stored in /Users/adamhockenberry/Projects/bacphlip-model-dev/Data/bacphlip_test/seagreen.fasta.bacphlip\n",
      "#################################################################################\n",
      "/Users/adamhockenberry/Projects/bacphlip-model-dev/Data/bacphlip_test/NC_021857.fasta\n",
      "#################################################################################\n",
      "Beginning BACPHLIP pipeline\n",
      "Finished six frame translation of genome (nucleotide) with output stored in /Users/adamhockenberry/Projects/bacphlip-model-dev/Data/bacphlip_test/NC_021857.fasta.6frame\n",
      "Finished outside call to hmmsearch with output stored in /Users/adamhockenberry/Projects/bacphlip-model-dev/Data/bacphlip_test/NC_021857.fasta.hmmsearch\n",
      "Finished converting hmmsearch with output stored in /Users/adamhockenberry/Projects/bacphlip-model-dev/Data/bacphlip_test/NC_021857.fasta.hmmsearch.tsv\n",
      "Finished with BACPHLIP predictions! Final output file stored in /Users/adamhockenberry/Projects/bacphlip-model-dev/Data/bacphlip_test/NC_021857.fasta.bacphlip\n",
      "#################################################################################\n",
      "/Users/adamhockenberry/Projects/bacphlip-model-dev/Data/bacphlip_test/vortex.fasta\n",
      "#################################################################################\n",
      "Beginning BACPHLIP pipeline\n",
      "Finished six frame translation of genome (nucleotide) with output stored in /Users/adamhockenberry/Projects/bacphlip-model-dev/Data/bacphlip_test/vortex.fasta.6frame\n",
      "Finished outside call to hmmsearch with output stored in /Users/adamhockenberry/Projects/bacphlip-model-dev/Data/bacphlip_test/vortex.fasta.hmmsearch\n",
      "Finished converting hmmsearch with output stored in /Users/adamhockenberry/Projects/bacphlip-model-dev/Data/bacphlip_test/vortex.fasta.hmmsearch.tsv\n",
      "Finished with BACPHLIP predictions! Final output file stored in /Users/adamhockenberry/Projects/bacphlip-model-dev/Data/bacphlip_test/vortex.fasta.bacphlip\n",
      "#################################################################################\n",
      "/Users/adamhockenberry/Projects/bacphlip-model-dev/Data/bacphlip_test/arbiter.fasta\n",
      "#################################################################################\n",
      "Beginning BACPHLIP pipeline\n",
      "Finished six frame translation of genome (nucleotide) with output stored in /Users/adamhockenberry/Projects/bacphlip-model-dev/Data/bacphlip_test/arbiter.fasta.6frame\n",
      "Finished outside call to hmmsearch with output stored in /Users/adamhockenberry/Projects/bacphlip-model-dev/Data/bacphlip_test/arbiter.fasta.hmmsearch\n",
      "Finished converting hmmsearch with output stored in /Users/adamhockenberry/Projects/bacphlip-model-dev/Data/bacphlip_test/arbiter.fasta.hmmsearch.tsv\n",
      "Finished with BACPHLIP predictions! Final output file stored in /Users/adamhockenberry/Projects/bacphlip-model-dev/Data/bacphlip_test/arbiter.fasta.bacphlip\n",
      "#################################################################################\n",
      "/Users/adamhockenberry/Projects/bacphlip-model-dev/Data/bacphlip_test/NC_023593.fasta\n",
      "#################################################################################\n",
      "Beginning BACPHLIP pipeline\n",
      "Finished six frame translation of genome (nucleotide) with output stored in /Users/adamhockenberry/Projects/bacphlip-model-dev/Data/bacphlip_test/NC_023593.fasta.6frame\n",
      "Finished outside call to hmmsearch with output stored in /Users/adamhockenberry/Projects/bacphlip-model-dev/Data/bacphlip_test/NC_023593.fasta.hmmsearch\n",
      "Finished converting hmmsearch with output stored in /Users/adamhockenberry/Projects/bacphlip-model-dev/Data/bacphlip_test/NC_023593.fasta.hmmsearch.tsv\n",
      "Finished with BACPHLIP predictions! Final output file stored in /Users/adamhockenberry/Projects/bacphlip-model-dev/Data/bacphlip_test/NC_023593.fasta.bacphlip\n",
      "#################################################################################\n",
      "/Users/adamhockenberry/Projects/bacphlip-model-dev/Data/bacphlip_test/captainkirk2.fasta\n",
      "#################################################################################\n",
      "Beginning BACPHLIP pipeline\n",
      "Finished six frame translation of genome (nucleotide) with output stored in /Users/adamhockenberry/Projects/bacphlip-model-dev/Data/bacphlip_test/captainkirk2.fasta.6frame\n",
      "Finished outside call to hmmsearch with output stored in /Users/adamhockenberry/Projects/bacphlip-model-dev/Data/bacphlip_test/captainkirk2.fasta.hmmsearch\n",
      "Finished converting hmmsearch with output stored in /Users/adamhockenberry/Projects/bacphlip-model-dev/Data/bacphlip_test/captainkirk2.fasta.hmmsearch.tsv\n",
      "Finished with BACPHLIP predictions! Final output file stored in /Users/adamhockenberry/Projects/bacphlip-model-dev/Data/bacphlip_test/captainkirk2.fasta.bacphlip\n",
      "#################################################################################\n",
      "/Users/adamhockenberry/Projects/bacphlip-model-dev/Data/bacphlip_test/NC_019404.fasta\n",
      "#################################################################################\n",
      "Beginning BACPHLIP pipeline\n",
      "Finished six frame translation of genome (nucleotide) with output stored in /Users/adamhockenberry/Projects/bacphlip-model-dev/Data/bacphlip_test/NC_019404.fasta.6frame\n",
      "Finished outside call to hmmsearch with output stored in /Users/adamhockenberry/Projects/bacphlip-model-dev/Data/bacphlip_test/NC_019404.fasta.hmmsearch\n",
      "Finished converting hmmsearch with output stored in /Users/adamhockenberry/Projects/bacphlip-model-dev/Data/bacphlip_test/NC_019404.fasta.hmmsearch.tsv\n",
      "Finished with BACPHLIP predictions! Final output file stored in /Users/adamhockenberry/Projects/bacphlip-model-dev/Data/bacphlip_test/NC_019404.fasta.bacphlip\n",
      "#################################################################################\n",
      "/Users/adamhockenberry/Projects/bacphlip-model-dev/Data/bacphlip_test/hedgerow.fasta\n",
      "#################################################################################\n",
      "Beginning BACPHLIP pipeline\n",
      "Finished six frame translation of genome (nucleotide) with output stored in /Users/adamhockenberry/Projects/bacphlip-model-dev/Data/bacphlip_test/hedgerow.fasta.6frame\n",
      "Finished outside call to hmmsearch with output stored in /Users/adamhockenberry/Projects/bacphlip-model-dev/Data/bacphlip_test/hedgerow.fasta.hmmsearch\n",
      "Finished converting hmmsearch with output stored in /Users/adamhockenberry/Projects/bacphlip-model-dev/Data/bacphlip_test/hedgerow.fasta.hmmsearch.tsv\n",
      "Finished with BACPHLIP predictions! Final output file stored in /Users/adamhockenberry/Projects/bacphlip-model-dev/Data/bacphlip_test/hedgerow.fasta.bacphlip\n",
      "#################################################################################\n",
      "/Users/adamhockenberry/Projects/bacphlip-model-dev/Data/bacphlip_test/michellemybell.fasta\n",
      "#################################################################################\n",
      "Beginning BACPHLIP pipeline\n",
      "Finished six frame translation of genome (nucleotide) with output stored in /Users/adamhockenberry/Projects/bacphlip-model-dev/Data/bacphlip_test/michellemybell.fasta.6frame\n"
     ]
    },
    {
     "name": "stdout",
     "output_type": "stream",
     "text": [
      "Finished outside call to hmmsearch with output stored in /Users/adamhockenberry/Projects/bacphlip-model-dev/Data/bacphlip_test/michellemybell.fasta.hmmsearch\n",
      "Finished converting hmmsearch with output stored in /Users/adamhockenberry/Projects/bacphlip-model-dev/Data/bacphlip_test/michellemybell.fasta.hmmsearch.tsv\n",
      "Finished with BACPHLIP predictions! Final output file stored in /Users/adamhockenberry/Projects/bacphlip-model-dev/Data/bacphlip_test/michellemybell.fasta.bacphlip\n",
      "#################################################################################\n"
     ]
    }
   ],
   "source": [
    "import sys\n",
    "sys.path.append('../../bacphlip-py/')\n",
    "import bacphlip\n",
    "for i in test_df['Identifier_AJH'][:10]:\n",
    "    fasta_file = temp_dir+i+'.fasta'\n",
    "    print(fasta_file)\n",
    "    bacphlip.run_pipeline('{}'.format(fasta_file), force_overwrite=True)"
   ]
  },
  {
   "cell_type": "markdown",
   "metadata": {},
   "source": [
    "# Compare results!"
   ]
  },
  {
   "cell_type": "code",
   "execution_count": 6,
   "metadata": {},
   "outputs": [],
   "source": [
    "###Load classifier model\n",
    "import joblib\n",
    "clf = joblib.load('../Data/classifier_data/rf_highMinAJH.joblib')\n",
    "test_df = pd.read_csv('../Data/classifier_data/test_df.csv', index_col=0)\n",
    "test_res = clf.predict_proba(test_df[test_df.columns[23:]])\n",
    "a = list(zip(*test_res))[0]\n",
    "b = list(zip(*test_res))[1]\n",
    "test_df['Virulent'] = a\n",
    "test_df['Temperate'] = b"
   ]
  },
  {
   "cell_type": "code",
   "execution_count": 7,
   "metadata": {},
   "outputs": [
    {
     "name": "stdout",
     "output_type": "stream",
     "text": [
      "success\n",
      "success\n",
      "success\n",
      "success\n",
      "success\n",
      "success\n",
      "success\n",
      "success\n",
      "success\n",
      "success\n"
     ]
    },
    {
     "ename": "FileNotFoundError",
     "evalue": "[Errno 2] File b'../Data/bacphlip_test/arturo.fasta.bacphlip' does not exist: b'../Data/bacphlip_test/arturo.fasta.bacphlip'",
     "output_type": "error",
     "traceback": [
      "\u001b[0;31m---------------------------------------------------------------------------\u001b[0m",
      "\u001b[0;31mFileNotFoundError\u001b[0m                         Traceback (most recent call last)",
      "\u001b[0;32m<ipython-input-7-df5a35e687a2>\u001b[0m in \u001b[0;36m<module>\u001b[0;34m\u001b[0m\n\u001b[1;32m      3\u001b[0m     \u001b[0mident\u001b[0m \u001b[0;34m=\u001b[0m \u001b[0mtest_df\u001b[0m\u001b[0;34m.\u001b[0m\u001b[0mloc\u001b[0m\u001b[0;34m[\u001b[0m\u001b[0mindex\u001b[0m\u001b[0;34m]\u001b[0m\u001b[0;34m[\u001b[0m\u001b[0;34m'Identifier_AJH'\u001b[0m\u001b[0;34m]\u001b[0m\u001b[0;34m\u001b[0m\u001b[0;34m\u001b[0m\u001b[0m\n\u001b[1;32m      4\u001b[0m     \u001b[0mbacphlip_out\u001b[0m \u001b[0;34m=\u001b[0m \u001b[0mbacphlip_dir\u001b[0m \u001b[0;34m+\u001b[0m \u001b[0mident\u001b[0m \u001b[0;34m+\u001b[0m \u001b[0;34m'.fasta.bacphlip'\u001b[0m\u001b[0;34m\u001b[0m\u001b[0;34m\u001b[0m\u001b[0m\n\u001b[0;32m----> 5\u001b[0;31m     \u001b[0mres_df\u001b[0m \u001b[0;34m=\u001b[0m \u001b[0mpd\u001b[0m\u001b[0;34m.\u001b[0m\u001b[0mread_csv\u001b[0m\u001b[0;34m(\u001b[0m\u001b[0mbacphlip_out\u001b[0m\u001b[0;34m,\u001b[0m \u001b[0msep\u001b[0m\u001b[0;34m=\u001b[0m\u001b[0;34m'\\t'\u001b[0m\u001b[0;34m)\u001b[0m\u001b[0;34m\u001b[0m\u001b[0;34m\u001b[0m\u001b[0m\n\u001b[0m\u001b[1;32m      6\u001b[0m     \u001b[0mvals\u001b[0m \u001b[0;34m=\u001b[0m \u001b[0mres_df\u001b[0m\u001b[0;34m.\u001b[0m\u001b[0mloc\u001b[0m\u001b[0;34m[\u001b[0m\u001b[0;36m0\u001b[0m\u001b[0;34m]\u001b[0m\u001b[0;34m.\u001b[0m\u001b[0mvalues\u001b[0m\u001b[0;34m\u001b[0m\u001b[0;34m\u001b[0m\u001b[0m\n\u001b[1;32m      7\u001b[0m     \u001b[0;32massert\u001b[0m \u001b[0mnp\u001b[0m\u001b[0;34m.\u001b[0m\u001b[0misclose\u001b[0m\u001b[0;34m(\u001b[0m\u001b[0mvals\u001b[0m\u001b[0;34m[\u001b[0m\u001b[0;36m0\u001b[0m\u001b[0;34m]\u001b[0m\u001b[0;34m,\u001b[0m \u001b[0mtest_df\u001b[0m\u001b[0;34m.\u001b[0m\u001b[0mloc\u001b[0m\u001b[0;34m[\u001b[0m\u001b[0mindex\u001b[0m\u001b[0;34m]\u001b[0m\u001b[0;34m[\u001b[0m\u001b[0;34m'Virulent'\u001b[0m\u001b[0;34m]\u001b[0m\u001b[0;34m)\u001b[0m\u001b[0;34m\u001b[0m\u001b[0;34m\u001b[0m\u001b[0m\n",
      "\u001b[0;32m~/anaconda3/lib/python3.7/site-packages/pandas/io/parsers.py\u001b[0m in \u001b[0;36mparser_f\u001b[0;34m(filepath_or_buffer, sep, delimiter, header, names, index_col, usecols, squeeze, prefix, mangle_dupe_cols, dtype, engine, converters, true_values, false_values, skipinitialspace, skiprows, skipfooter, nrows, na_values, keep_default_na, na_filter, verbose, skip_blank_lines, parse_dates, infer_datetime_format, keep_date_col, date_parser, dayfirst, cache_dates, iterator, chunksize, compression, thousands, decimal, lineterminator, quotechar, quoting, doublequote, escapechar, comment, encoding, dialect, error_bad_lines, warn_bad_lines, delim_whitespace, low_memory, memory_map, float_precision)\u001b[0m\n\u001b[1;32m    683\u001b[0m         )\n\u001b[1;32m    684\u001b[0m \u001b[0;34m\u001b[0m\u001b[0m\n\u001b[0;32m--> 685\u001b[0;31m         \u001b[0;32mreturn\u001b[0m \u001b[0m_read\u001b[0m\u001b[0;34m(\u001b[0m\u001b[0mfilepath_or_buffer\u001b[0m\u001b[0;34m,\u001b[0m \u001b[0mkwds\u001b[0m\u001b[0;34m)\u001b[0m\u001b[0;34m\u001b[0m\u001b[0;34m\u001b[0m\u001b[0m\n\u001b[0m\u001b[1;32m    686\u001b[0m \u001b[0;34m\u001b[0m\u001b[0m\n\u001b[1;32m    687\u001b[0m     \u001b[0mparser_f\u001b[0m\u001b[0;34m.\u001b[0m\u001b[0m__name__\u001b[0m \u001b[0;34m=\u001b[0m \u001b[0mname\u001b[0m\u001b[0;34m\u001b[0m\u001b[0;34m\u001b[0m\u001b[0m\n",
      "\u001b[0;32m~/anaconda3/lib/python3.7/site-packages/pandas/io/parsers.py\u001b[0m in \u001b[0;36m_read\u001b[0;34m(filepath_or_buffer, kwds)\u001b[0m\n\u001b[1;32m    455\u001b[0m \u001b[0;34m\u001b[0m\u001b[0m\n\u001b[1;32m    456\u001b[0m     \u001b[0;31m# Create the parser.\u001b[0m\u001b[0;34m\u001b[0m\u001b[0;34m\u001b[0m\u001b[0;34m\u001b[0m\u001b[0m\n\u001b[0;32m--> 457\u001b[0;31m     \u001b[0mparser\u001b[0m \u001b[0;34m=\u001b[0m \u001b[0mTextFileReader\u001b[0m\u001b[0;34m(\u001b[0m\u001b[0mfp_or_buf\u001b[0m\u001b[0;34m,\u001b[0m \u001b[0;34m**\u001b[0m\u001b[0mkwds\u001b[0m\u001b[0;34m)\u001b[0m\u001b[0;34m\u001b[0m\u001b[0;34m\u001b[0m\u001b[0m\n\u001b[0m\u001b[1;32m    458\u001b[0m \u001b[0;34m\u001b[0m\u001b[0m\n\u001b[1;32m    459\u001b[0m     \u001b[0;32mif\u001b[0m \u001b[0mchunksize\u001b[0m \u001b[0;32mor\u001b[0m \u001b[0miterator\u001b[0m\u001b[0;34m:\u001b[0m\u001b[0;34m\u001b[0m\u001b[0;34m\u001b[0m\u001b[0m\n",
      "\u001b[0;32m~/anaconda3/lib/python3.7/site-packages/pandas/io/parsers.py\u001b[0m in \u001b[0;36m__init__\u001b[0;34m(self, f, engine, **kwds)\u001b[0m\n\u001b[1;32m    893\u001b[0m             \u001b[0mself\u001b[0m\u001b[0;34m.\u001b[0m\u001b[0moptions\u001b[0m\u001b[0;34m[\u001b[0m\u001b[0;34m\"has_index_names\"\u001b[0m\u001b[0;34m]\u001b[0m \u001b[0;34m=\u001b[0m \u001b[0mkwds\u001b[0m\u001b[0;34m[\u001b[0m\u001b[0;34m\"has_index_names\"\u001b[0m\u001b[0;34m]\u001b[0m\u001b[0;34m\u001b[0m\u001b[0;34m\u001b[0m\u001b[0m\n\u001b[1;32m    894\u001b[0m \u001b[0;34m\u001b[0m\u001b[0m\n\u001b[0;32m--> 895\u001b[0;31m         \u001b[0mself\u001b[0m\u001b[0;34m.\u001b[0m\u001b[0m_make_engine\u001b[0m\u001b[0;34m(\u001b[0m\u001b[0mself\u001b[0m\u001b[0;34m.\u001b[0m\u001b[0mengine\u001b[0m\u001b[0;34m)\u001b[0m\u001b[0;34m\u001b[0m\u001b[0;34m\u001b[0m\u001b[0m\n\u001b[0m\u001b[1;32m    896\u001b[0m \u001b[0;34m\u001b[0m\u001b[0m\n\u001b[1;32m    897\u001b[0m     \u001b[0;32mdef\u001b[0m \u001b[0mclose\u001b[0m\u001b[0;34m(\u001b[0m\u001b[0mself\u001b[0m\u001b[0;34m)\u001b[0m\u001b[0;34m:\u001b[0m\u001b[0;34m\u001b[0m\u001b[0;34m\u001b[0m\u001b[0m\n",
      "\u001b[0;32m~/anaconda3/lib/python3.7/site-packages/pandas/io/parsers.py\u001b[0m in \u001b[0;36m_make_engine\u001b[0;34m(self, engine)\u001b[0m\n\u001b[1;32m   1133\u001b[0m     \u001b[0;32mdef\u001b[0m \u001b[0m_make_engine\u001b[0m\u001b[0;34m(\u001b[0m\u001b[0mself\u001b[0m\u001b[0;34m,\u001b[0m \u001b[0mengine\u001b[0m\u001b[0;34m=\u001b[0m\u001b[0;34m\"c\"\u001b[0m\u001b[0;34m)\u001b[0m\u001b[0;34m:\u001b[0m\u001b[0;34m\u001b[0m\u001b[0;34m\u001b[0m\u001b[0m\n\u001b[1;32m   1134\u001b[0m         \u001b[0;32mif\u001b[0m \u001b[0mengine\u001b[0m \u001b[0;34m==\u001b[0m \u001b[0;34m\"c\"\u001b[0m\u001b[0;34m:\u001b[0m\u001b[0;34m\u001b[0m\u001b[0;34m\u001b[0m\u001b[0m\n\u001b[0;32m-> 1135\u001b[0;31m             \u001b[0mself\u001b[0m\u001b[0;34m.\u001b[0m\u001b[0m_engine\u001b[0m \u001b[0;34m=\u001b[0m \u001b[0mCParserWrapper\u001b[0m\u001b[0;34m(\u001b[0m\u001b[0mself\u001b[0m\u001b[0;34m.\u001b[0m\u001b[0mf\u001b[0m\u001b[0;34m,\u001b[0m \u001b[0;34m**\u001b[0m\u001b[0mself\u001b[0m\u001b[0;34m.\u001b[0m\u001b[0moptions\u001b[0m\u001b[0;34m)\u001b[0m\u001b[0;34m\u001b[0m\u001b[0;34m\u001b[0m\u001b[0m\n\u001b[0m\u001b[1;32m   1136\u001b[0m         \u001b[0;32melse\u001b[0m\u001b[0;34m:\u001b[0m\u001b[0;34m\u001b[0m\u001b[0;34m\u001b[0m\u001b[0m\n\u001b[1;32m   1137\u001b[0m             \u001b[0;32mif\u001b[0m \u001b[0mengine\u001b[0m \u001b[0;34m==\u001b[0m \u001b[0;34m\"python\"\u001b[0m\u001b[0;34m:\u001b[0m\u001b[0;34m\u001b[0m\u001b[0;34m\u001b[0m\u001b[0m\n",
      "\u001b[0;32m~/anaconda3/lib/python3.7/site-packages/pandas/io/parsers.py\u001b[0m in \u001b[0;36m__init__\u001b[0;34m(self, src, **kwds)\u001b[0m\n\u001b[1;32m   1915\u001b[0m         \u001b[0mkwds\u001b[0m\u001b[0;34m[\u001b[0m\u001b[0;34m\"usecols\"\u001b[0m\u001b[0;34m]\u001b[0m \u001b[0;34m=\u001b[0m \u001b[0mself\u001b[0m\u001b[0;34m.\u001b[0m\u001b[0musecols\u001b[0m\u001b[0;34m\u001b[0m\u001b[0;34m\u001b[0m\u001b[0m\n\u001b[1;32m   1916\u001b[0m \u001b[0;34m\u001b[0m\u001b[0m\n\u001b[0;32m-> 1917\u001b[0;31m         \u001b[0mself\u001b[0m\u001b[0;34m.\u001b[0m\u001b[0m_reader\u001b[0m \u001b[0;34m=\u001b[0m \u001b[0mparsers\u001b[0m\u001b[0;34m.\u001b[0m\u001b[0mTextReader\u001b[0m\u001b[0;34m(\u001b[0m\u001b[0msrc\u001b[0m\u001b[0;34m,\u001b[0m \u001b[0;34m**\u001b[0m\u001b[0mkwds\u001b[0m\u001b[0;34m)\u001b[0m\u001b[0;34m\u001b[0m\u001b[0;34m\u001b[0m\u001b[0m\n\u001b[0m\u001b[1;32m   1918\u001b[0m         \u001b[0mself\u001b[0m\u001b[0;34m.\u001b[0m\u001b[0munnamed_cols\u001b[0m \u001b[0;34m=\u001b[0m \u001b[0mself\u001b[0m\u001b[0;34m.\u001b[0m\u001b[0m_reader\u001b[0m\u001b[0;34m.\u001b[0m\u001b[0munnamed_cols\u001b[0m\u001b[0;34m\u001b[0m\u001b[0;34m\u001b[0m\u001b[0m\n\u001b[1;32m   1919\u001b[0m \u001b[0;34m\u001b[0m\u001b[0m\n",
      "\u001b[0;32mpandas/_libs/parsers.pyx\u001b[0m in \u001b[0;36mpandas._libs.parsers.TextReader.__cinit__\u001b[0;34m()\u001b[0m\n",
      "\u001b[0;32mpandas/_libs/parsers.pyx\u001b[0m in \u001b[0;36mpandas._libs.parsers.TextReader._setup_parser_source\u001b[0;34m()\u001b[0m\n",
      "\u001b[0;31mFileNotFoundError\u001b[0m: [Errno 2] File b'../Data/bacphlip_test/arturo.fasta.bacphlip' does not exist: b'../Data/bacphlip_test/arturo.fasta.bacphlip'"
     ]
    }
   ],
   "source": [
    "bacphlip_dir = '../Data/bacphlip_test/'\n",
    "for index in test_df.index[:20]:\n",
    "    ident = test_df.loc[index]['Identifier_AJH']\n",
    "    bacphlip_out = bacphlip_dir + ident + '.fasta.bacphlip'\n",
    "    res_df = pd.read_csv(bacphlip_out, sep='\\t')\n",
    "    vals = res_df.loc[0].values\n",
    "    assert np.isclose(vals[0], test_df.loc[index]['Virulent'])\n",
    "    assert np.isclose(vals[1], test_df.loc[index]['Temperate'])\n",
    "    print('success')\n",
    "    "
   ]
  },
  {
   "cell_type": "code",
   "execution_count": null,
   "metadata": {},
   "outputs": [],
   "source": [
    "vals"
   ]
  },
  {
   "cell_type": "code",
   "execution_count": null,
   "metadata": {},
   "outputs": [],
   "source": [
    "test_df.loc[index]['Virulent']"
   ]
  },
  {
   "cell_type": "code",
   "execution_count": null,
   "metadata": {},
   "outputs": [],
   "source": [
    "test_df.loc[index]['Temperate']"
   ]
  },
  {
   "cell_type": "code",
   "execution_count": null,
   "metadata": {},
   "outputs": [],
   "source": []
  }
 ],
 "metadata": {
  "kernelspec": {
   "display_name": "Python 3",
   "language": "python",
   "name": "python3"
  },
  "language_info": {
   "codemirror_mode": {
    "name": "ipython",
    "version": 3
   },
   "file_extension": ".py",
   "mimetype": "text/x-python",
   "name": "python",
   "nbconvert_exporter": "python",
   "pygments_lexer": "ipython3",
   "version": "3.7.4"
  },
  "toc": {
   "colors": {
    "hover_highlight": "#DAA520",
    "navigate_num": "#000000",
    "navigate_text": "#333333",
    "running_highlight": "#FF0000",
    "selected_highlight": "#FFD700",
    "sidebar_border": "#EEEEEE",
    "wrapper_background": "#FFFFFF"
   },
   "moveMenuLeft": true,
   "nav_menu": {
    "height": "66px",
    "width": "252px"
   },
   "navigate_menu": true,
   "number_sections": true,
   "sideBar": true,
   "threshold": 4,
   "toc_cell": false,
   "toc_section_display": "block",
   "toc_window_display": false,
   "widenNotebook": false
  }
 },
 "nbformat": 4,
 "nbformat_minor": 2
}
